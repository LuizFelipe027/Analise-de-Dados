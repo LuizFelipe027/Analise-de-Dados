{
 "cells": [
  {
   "cell_type": "markdown",
   "id": "popular-challenge",
   "metadata": {},
   "source": [
    "8 - Selecione um dos modelos de classificação aprendidos até agora na disciplina (Naive Bayes ou Regressão Logística) e treine-o com df_no_salary. Seu objetivo é prever a recolocação (status = [Placed/Recolocado, Not Placed/Não Recolocado]) de cada indivíduo.(OK)\n",
    "\n",
    "9 - Comente as avaliações (Recall, Precision, ROC e AUC) obtidas pelo modelo de classificação utilizado. Informe se os resultados são bons ou ruins de acordo com as métricas.(Falta Fazer)\n",
    "\n",
    "10 - A partir de df_original, crie o Data Frame df_no_status agora removendo a coluna status,  aplicando o LabelEncoder, separe as amostras que não possuem o atributo salary (dados ausentes).(OK)\n",
    "\n",
    "11 - Treine um modelo de regressão linear múltipla e preveja os salários (salary) das amostras que não possuem essa informação em df_no_status(OK)\n",
    "\n",
    "12 - Para as amostras que não possuem o atributo salary preenchidos em df_no_status, inclua o valor previsto pelo modelo de regressão linear múltipla(OK)\n",
    "\n",
    "13 - Agora que você preencheu os dados ausentes do atributo salary de df_no_status, copie o atributos salary de df_no_status para df_original(OK)\n",
    "\n",
    "14 - Treine o modelo de classificação selecionado em 8 agora com df_original, com o mesmo objetivo de prever a recolocação\n",
    "\n",
    "15 - Compare e comente os resultados obtidos em 9 com os resultados obtidos em 14"
   ]
  },
  {
   "cell_type": "code",
   "execution_count": 213,
   "id": "gorgeous-internship",
   "metadata": {},
   "outputs": [],
   "source": [
    "PSDS_PATH <- 'C://Users//ADM//OneDrive//FAESA - Sistemas de Informação//5ª Período//Análise de Dados Aplicada a Computação//Avaliação C2'\n",
    "DataSet <- read.csv(file.path(PSDS_PATH, 'Placement_Data_Full_Class.csv'), header=TRUE, sep=\",\")"
   ]
  },
  {
   "cell_type": "code",
   "execution_count": 214,
   "id": "failing-carnival",
   "metadata": {},
   "outputs": [],
   "source": [
    "df_original <- data.frame(DataSet)"
   ]
  },
  {
   "cell_type": "code",
   "execution_count": 215,
   "id": "horizontal-hopkins",
   "metadata": {},
   "outputs": [
    {
     "data": {
      "text/html": [
       "<table>\n",
       "<thead><tr><th scope=col>sl_no</th><th scope=col>gender</th><th scope=col>ssc_p</th><th scope=col>ssc_b</th><th scope=col>hsc_p</th><th scope=col>hsc_b</th><th scope=col>hsc_s</th><th scope=col>degree_p</th><th scope=col>degree_t</th><th scope=col>workex</th><th scope=col>etest_p</th><th scope=col>specialisation</th><th scope=col>mba_p</th><th scope=col>status</th><th scope=col>salary</th></tr></thead>\n",
       "<tbody>\n",
       "\t<tr><td>1                                                 </td><td>M                                                 </td><td>67.00                                             </td><td>Others                                            </td><td>91.00                                             </td><td>Others                                            </td><td>Commerce                                          </td><td>58.00                                             </td><td>Sci&amp;Tech                                      </td><td>No                                                </td><td>55.0                                              </td><td>Mkt&amp;HR                                        </td><td>58.80                                             </td><td><span style=white-space:pre-wrap>Placed    </span></td><td>270000                                            </td></tr>\n",
       "\t<tr><td>2                                                 </td><td>M                                                 </td><td>79.33                                             </td><td>Central                                           </td><td>78.33                                             </td><td>Others                                            </td><td>Science                                           </td><td>77.48                                             </td><td>Sci&amp;Tech                                      </td><td>Yes                                               </td><td>86.5                                              </td><td>Mkt&amp;Fin                                       </td><td>66.28                                             </td><td><span style=white-space:pre-wrap>Placed    </span></td><td>200000                                            </td></tr>\n",
       "\t<tr><td>3                                                 </td><td>M                                                 </td><td>65.00                                             </td><td>Central                                           </td><td>68.00                                             </td><td>Central                                           </td><td><span style=white-space:pre-wrap>Arts    </span>  </td><td>64.00                                             </td><td>Comm&amp;Mgmt                                     </td><td>No                                                </td><td>75.0                                              </td><td>Mkt&amp;Fin                                       </td><td>57.80                                             </td><td><span style=white-space:pre-wrap>Placed    </span></td><td>250000                                            </td></tr>\n",
       "\t<tr><td>4                                             </td><td>M                                             </td><td>56.00                                         </td><td>Central                                       </td><td>52.00                                         </td><td>Central                                       </td><td>Science                                       </td><td>52.00                                         </td><td>Sci&amp;Tech                                  </td><td>No                                            </td><td>66.0                                          </td><td>Mkt&amp;HR                                    </td><td>59.43                                         </td><td>Not Placed                                    </td><td><span style=white-space:pre-wrap>    NA</span></td></tr>\n",
       "\t<tr><td>5                                                 </td><td>M                                                 </td><td>85.80                                             </td><td>Central                                           </td><td>73.60                                             </td><td>Central                                           </td><td>Commerce                                          </td><td>73.30                                             </td><td>Comm&amp;Mgmt                                     </td><td>No                                                </td><td>96.8                                              </td><td>Mkt&amp;Fin                                       </td><td>55.50                                             </td><td><span style=white-space:pre-wrap>Placed    </span></td><td>425000                                            </td></tr>\n",
       "\t<tr><td>6                                             </td><td>M                                             </td><td>55.00                                         </td><td>Others                                        </td><td>49.80                                         </td><td>Others                                        </td><td>Science                                       </td><td>67.25                                         </td><td>Sci&amp;Tech                                  </td><td>Yes                                           </td><td>55.0                                          </td><td>Mkt&amp;Fin                                   </td><td>51.58                                         </td><td>Not Placed                                    </td><td><span style=white-space:pre-wrap>    NA</span></td></tr>\n",
       "</tbody>\n",
       "</table>\n"
      ],
      "text/latex": [
       "\\begin{tabular}{r|lllllllllllllll}\n",
       " sl\\_no & gender & ssc\\_p & ssc\\_b & hsc\\_p & hsc\\_b & hsc\\_s & degree\\_p & degree\\_t & workex & etest\\_p & specialisation & mba\\_p & status & salary\\\\\n",
       "\\hline\n",
       "\t 1           & M           & 67.00       & Others      & 91.00       & Others      & Commerce    & 58.00       & Sci\\&Tech  & No          & 55.0        & Mkt\\&HR    & 58.80       & Placed      & 270000     \\\\\n",
       "\t 2           & M           & 79.33       & Central     & 78.33       & Others      & Science     & 77.48       & Sci\\&Tech  & Yes         & 86.5        & Mkt\\&Fin   & 66.28       & Placed      & 200000     \\\\\n",
       "\t 3           & M           & 65.00       & Central     & 68.00       & Central     & Arts        & 64.00       & Comm\\&Mgmt & No          & 75.0        & Mkt\\&Fin   & 57.80       & Placed      & 250000     \\\\\n",
       "\t 4           & M           & 56.00       & Central     & 52.00       & Central     & Science     & 52.00       & Sci\\&Tech  & No          & 66.0        & Mkt\\&HR    & 59.43       & Not Placed  &     NA     \\\\\n",
       "\t 5           & M           & 85.80       & Central     & 73.60       & Central     & Commerce    & 73.30       & Comm\\&Mgmt & No          & 96.8        & Mkt\\&Fin   & 55.50       & Placed      & 425000     \\\\\n",
       "\t 6           & M           & 55.00       & Others      & 49.80       & Others      & Science     & 67.25       & Sci\\&Tech  & Yes         & 55.0        & Mkt\\&Fin   & 51.58       & Not Placed  &     NA     \\\\\n",
       "\\end{tabular}\n"
      ],
      "text/markdown": [
       "\n",
       "| sl_no | gender | ssc_p | ssc_b | hsc_p | hsc_b | hsc_s | degree_p | degree_t | workex | etest_p | specialisation | mba_p | status | salary |\n",
       "|---|---|---|---|---|---|---|---|---|---|---|---|---|---|---|\n",
       "| 1          | M          | 67.00      | Others     | 91.00      | Others     | Commerce   | 58.00      | Sci&Tech   | No         | 55.0       | Mkt&HR     | 58.80      | Placed     | 270000     |\n",
       "| 2          | M          | 79.33      | Central    | 78.33      | Others     | Science    | 77.48      | Sci&Tech   | Yes        | 86.5       | Mkt&Fin    | 66.28      | Placed     | 200000     |\n",
       "| 3          | M          | 65.00      | Central    | 68.00      | Central    | Arts       | 64.00      | Comm&Mgmt  | No         | 75.0       | Mkt&Fin    | 57.80      | Placed     | 250000     |\n",
       "| 4          | M          | 56.00      | Central    | 52.00      | Central    | Science    | 52.00      | Sci&Tech   | No         | 66.0       | Mkt&HR     | 59.43      | Not Placed |     NA     |\n",
       "| 5          | M          | 85.80      | Central    | 73.60      | Central    | Commerce   | 73.30      | Comm&Mgmt  | No         | 96.8       | Mkt&Fin    | 55.50      | Placed     | 425000     |\n",
       "| 6          | M          | 55.00      | Others     | 49.80      | Others     | Science    | 67.25      | Sci&Tech   | Yes        | 55.0       | Mkt&Fin    | 51.58      | Not Placed |     NA     |\n",
       "\n"
      ],
      "text/plain": [
       "  sl_no gender ssc_p ssc_b   hsc_p hsc_b   hsc_s    degree_p degree_t  workex\n",
       "1 1     M      67.00 Others  91.00 Others  Commerce 58.00    Sci&Tech  No    \n",
       "2 2     M      79.33 Central 78.33 Others  Science  77.48    Sci&Tech  Yes   \n",
       "3 3     M      65.00 Central 68.00 Central Arts     64.00    Comm&Mgmt No    \n",
       "4 4     M      56.00 Central 52.00 Central Science  52.00    Sci&Tech  No    \n",
       "5 5     M      85.80 Central 73.60 Central Commerce 73.30    Comm&Mgmt No    \n",
       "6 6     M      55.00 Others  49.80 Others  Science  67.25    Sci&Tech  Yes   \n",
       "  etest_p specialisation mba_p status     salary\n",
       "1 55.0    Mkt&HR         58.80 Placed     270000\n",
       "2 86.5    Mkt&Fin        66.28 Placed     200000\n",
       "3 75.0    Mkt&Fin        57.80 Placed     250000\n",
       "4 66.0    Mkt&HR         59.43 Not Placed     NA\n",
       "5 96.8    Mkt&Fin        55.50 Placed     425000\n",
       "6 55.0    Mkt&Fin        51.58 Not Placed     NA"
      ]
     },
     "metadata": {},
     "output_type": "display_data"
    }
   ],
   "source": [
    "head(df_original)"
   ]
  },
  {
   "cell_type": "code",
   "execution_count": 216,
   "id": "ignored-camping",
   "metadata": {},
   "outputs": [],
   "source": [
    "df_no_salary <- data.frame(df_original)"
   ]
  },
  {
   "cell_type": "code",
   "execution_count": 217,
   "id": "strategic-display",
   "metadata": {},
   "outputs": [
    {
     "data": {
      "text/html": [
       "<table>\n",
       "<thead><tr><th scope=col>sl_no</th><th scope=col>gender</th><th scope=col>ssc_p</th><th scope=col>ssc_b</th><th scope=col>hsc_p</th><th scope=col>hsc_b</th><th scope=col>hsc_s</th><th scope=col>degree_p</th><th scope=col>degree_t</th><th scope=col>workex</th><th scope=col>etest_p</th><th scope=col>specialisation</th><th scope=col>mba_p</th><th scope=col>status</th></tr></thead>\n",
       "<tbody>\n",
       "\t<tr><td>1                                                 </td><td>M                                                 </td><td>67.00                                             </td><td>Others                                            </td><td>91.00                                             </td><td>Others                                            </td><td>Commerce                                          </td><td>58.00                                             </td><td>Sci&amp;Tech                                      </td><td>No                                                </td><td>55.0                                              </td><td>Mkt&amp;HR                                        </td><td>58.80                                             </td><td><span style=white-space:pre-wrap>Placed    </span></td></tr>\n",
       "\t<tr><td>2                                                 </td><td>M                                                 </td><td>79.33                                             </td><td>Central                                           </td><td>78.33                                             </td><td>Others                                            </td><td>Science                                           </td><td>77.48                                             </td><td>Sci&amp;Tech                                      </td><td>Yes                                               </td><td>86.5                                              </td><td>Mkt&amp;Fin                                       </td><td>66.28                                             </td><td><span style=white-space:pre-wrap>Placed    </span></td></tr>\n",
       "\t<tr><td>3                                                 </td><td>M                                                 </td><td>65.00                                             </td><td>Central                                           </td><td>68.00                                             </td><td>Central                                           </td><td><span style=white-space:pre-wrap>Arts    </span>  </td><td>64.00                                             </td><td>Comm&amp;Mgmt                                     </td><td>No                                                </td><td>75.0                                              </td><td>Mkt&amp;Fin                                       </td><td>57.80                                             </td><td><span style=white-space:pre-wrap>Placed    </span></td></tr>\n",
       "\t<tr><td>4            </td><td>M            </td><td>56.00        </td><td>Central      </td><td>52.00        </td><td>Central      </td><td>Science      </td><td>52.00        </td><td>Sci&amp;Tech </td><td>No           </td><td>66.0         </td><td>Mkt&amp;HR   </td><td>59.43        </td><td>Not Placed   </td></tr>\n",
       "\t<tr><td>5                                                 </td><td>M                                                 </td><td>85.80                                             </td><td>Central                                           </td><td>73.60                                             </td><td>Central                                           </td><td>Commerce                                          </td><td>73.30                                             </td><td>Comm&amp;Mgmt                                     </td><td>No                                                </td><td>96.8                                              </td><td>Mkt&amp;Fin                                       </td><td>55.50                                             </td><td><span style=white-space:pre-wrap>Placed    </span></td></tr>\n",
       "\t<tr><td>6            </td><td>M            </td><td>55.00        </td><td>Others       </td><td>49.80        </td><td>Others       </td><td>Science      </td><td>67.25        </td><td>Sci&amp;Tech </td><td>Yes          </td><td>55.0         </td><td>Mkt&amp;Fin  </td><td>51.58        </td><td>Not Placed   </td></tr>\n",
       "</tbody>\n",
       "</table>\n"
      ],
      "text/latex": [
       "\\begin{tabular}{r|llllllllllllll}\n",
       " sl\\_no & gender & ssc\\_p & ssc\\_b & hsc\\_p & hsc\\_b & hsc\\_s & degree\\_p & degree\\_t & workex & etest\\_p & specialisation & mba\\_p & status\\\\\n",
       "\\hline\n",
       "\t 1           & M           & 67.00       & Others      & 91.00       & Others      & Commerce    & 58.00       & Sci\\&Tech  & No          & 55.0        & Mkt\\&HR    & 58.80       & Placed     \\\\\n",
       "\t 2           & M           & 79.33       & Central     & 78.33       & Others      & Science     & 77.48       & Sci\\&Tech  & Yes         & 86.5        & Mkt\\&Fin   & 66.28       & Placed     \\\\\n",
       "\t 3           & M           & 65.00       & Central     & 68.00       & Central     & Arts        & 64.00       & Comm\\&Mgmt & No          & 75.0        & Mkt\\&Fin   & 57.80       & Placed     \\\\\n",
       "\t 4           & M           & 56.00       & Central     & 52.00       & Central     & Science     & 52.00       & Sci\\&Tech  & No          & 66.0        & Mkt\\&HR    & 59.43       & Not Placed \\\\\n",
       "\t 5           & M           & 85.80       & Central     & 73.60       & Central     & Commerce    & 73.30       & Comm\\&Mgmt & No          & 96.8        & Mkt\\&Fin   & 55.50       & Placed     \\\\\n",
       "\t 6           & M           & 55.00       & Others      & 49.80       & Others      & Science     & 67.25       & Sci\\&Tech  & Yes         & 55.0        & Mkt\\&Fin   & 51.58       & Not Placed \\\\\n",
       "\\end{tabular}\n"
      ],
      "text/markdown": [
       "\n",
       "| sl_no | gender | ssc_p | ssc_b | hsc_p | hsc_b | hsc_s | degree_p | degree_t | workex | etest_p | specialisation | mba_p | status |\n",
       "|---|---|---|---|---|---|---|---|---|---|---|---|---|---|\n",
       "| 1          | M          | 67.00      | Others     | 91.00      | Others     | Commerce   | 58.00      | Sci&Tech   | No         | 55.0       | Mkt&HR     | 58.80      | Placed     |\n",
       "| 2          | M          | 79.33      | Central    | 78.33      | Others     | Science    | 77.48      | Sci&Tech   | Yes        | 86.5       | Mkt&Fin    | 66.28      | Placed     |\n",
       "| 3          | M          | 65.00      | Central    | 68.00      | Central    | Arts       | 64.00      | Comm&Mgmt  | No         | 75.0       | Mkt&Fin    | 57.80      | Placed     |\n",
       "| 4          | M          | 56.00      | Central    | 52.00      | Central    | Science    | 52.00      | Sci&Tech   | No         | 66.0       | Mkt&HR     | 59.43      | Not Placed |\n",
       "| 5          | M          | 85.80      | Central    | 73.60      | Central    | Commerce   | 73.30      | Comm&Mgmt  | No         | 96.8       | Mkt&Fin    | 55.50      | Placed     |\n",
       "| 6          | M          | 55.00      | Others     | 49.80      | Others     | Science    | 67.25      | Sci&Tech   | Yes        | 55.0       | Mkt&Fin    | 51.58      | Not Placed |\n",
       "\n"
      ],
      "text/plain": [
       "  sl_no gender ssc_p ssc_b   hsc_p hsc_b   hsc_s    degree_p degree_t  workex\n",
       "1 1     M      67.00 Others  91.00 Others  Commerce 58.00    Sci&Tech  No    \n",
       "2 2     M      79.33 Central 78.33 Others  Science  77.48    Sci&Tech  Yes   \n",
       "3 3     M      65.00 Central 68.00 Central Arts     64.00    Comm&Mgmt No    \n",
       "4 4     M      56.00 Central 52.00 Central Science  52.00    Sci&Tech  No    \n",
       "5 5     M      85.80 Central 73.60 Central Commerce 73.30    Comm&Mgmt No    \n",
       "6 6     M      55.00 Others  49.80 Others  Science  67.25    Sci&Tech  Yes   \n",
       "  etest_p specialisation mba_p status    \n",
       "1 55.0    Mkt&HR         58.80 Placed    \n",
       "2 86.5    Mkt&Fin        66.28 Placed    \n",
       "3 75.0    Mkt&Fin        57.80 Placed    \n",
       "4 66.0    Mkt&HR         59.43 Not Placed\n",
       "5 96.8    Mkt&Fin        55.50 Placed    \n",
       "6 55.0    Mkt&Fin        51.58 Not Placed"
      ]
     },
     "metadata": {},
     "output_type": "display_data"
    }
   ],
   "source": [
    "df_no_salary$salary <- NULL\n",
    "head(df_no_salary)"
   ]
  },
  {
   "cell_type": "code",
   "execution_count": 218,
   "id": "seasonal-click",
   "metadata": {
    "scrolled": true
   },
   "outputs": [
    {
     "data": {
      "image/png": "[encoded data removed]",
      "text/plain": [
       "plot without title"
      ]
     },
     "metadata": {},
     "output_type": "display_data"
    }
   ],
   "source": [
    "barplot(height=c(sum(df_original[df_original$gender == 'F', ]$degree_p), \n",
    "                 sum(df_original[df_original$gender == 'M', ]$degree_p))/100,\n",
    "        ylab = \"Porcentagem de Grau\",\n",
    "        names=c('Feminino', 'Masculino'))"
   ]
  },
  {
   "cell_type": "markdown",
   "id": "presidential-equation",
   "metadata": {},
   "source": [
    "Através deste gráfico podemos ver que o gênero feminino possui uma porcentagem de grau(degree_p), de mais ou menos, 45% menor que o gênero masculino.\n"
   ]
  },
  {
   "cell_type": "code",
   "execution_count": 219,
   "id": "alternative-customer",
   "metadata": {
    "scrolled": true
   },
   "outputs": [
    {
     "data": {
      "image/png": "[encoded data removed]",
      "text/plain": [
       "plot without title"
      ]
     },
     "metadata": {},
     "output_type": "display_data"
    }
   ],
   "source": [
    "barplot(height=c(sum(df_original[df_original$workex == 'No', ]$mba_p), \n",
    "                 sum(df_original[df_original$workex == 'Yes', ]$mba_p))/100,\n",
    "        ylab = \"Possuem Pós-graduação\",\n",
    "        names=c('Sem XP', 'Com XP'))"
   ]
  },
  {
   "cell_type": "markdown",
   "id": "existing-stylus",
   "metadata": {},
   "source": [
    "Analisando esse gráfico identificamos que a maioria das pessoas que possuem a pós-graduação(mba_p) não possuem experiência de trabalho. "
   ]
  },
  {
   "cell_type": "code",
   "execution_count": 220,
   "id": "strong-advancement",
   "metadata": {
    "scrolled": true
   },
   "outputs": [
    {
     "name": "stdout",
     "output_type": "stream",
     "text": [
      "[1] \"Mkt&HR\"\n"
     ]
    },
    {
     "data": {
      "text/html": [
       "<dl class=dl-horizontal>\n",
       "\t<dt>5%</dt>\n",
       "\t\t<dd>17.8</dd>\n",
       "\t<dt>25%</dt>\n",
       "\t\t<dd>53.5</dd>\n",
       "\t<dt>50%</dt>\n",
       "\t\t<dd>112</dd>\n",
       "\t<dt>75%</dt>\n",
       "\t\t<dd>168</dd>\n",
       "</dl>\n"
      ],
      "text/latex": [
       "\\begin{description*}\n",
       "\\item[5\\textbackslash{}\\%] 17.8\n",
       "\\item[25\\textbackslash{}\\%] 53.5\n",
       "\\item[50\\textbackslash{}\\%] 112\n",
       "\\item[75\\textbackslash{}\\%] 168\n",
       "\\end{description*}\n"
      ],
      "text/markdown": [
       "5%\n",
       ":   17.825%\n",
       ":   53.550%\n",
       ":   11275%\n",
       ":   168\n",
       "\n"
      ],
      "text/plain": [
       "   5%   25%   50%   75% \n",
       " 17.8  53.5 112.0 168.0 "
      ]
     },
     "metadata": {},
     "output_type": "display_data"
    },
    {
     "name": "stdout",
     "output_type": "stream",
     "text": [
      "[1] \"Mkt&Fin\"\n"
     ]
    },
    {
     "data": {
      "text/html": [
       "<dl class=dl-horizontal>\n",
       "\t<dt>5%</dt>\n",
       "\t\t<dd>8.95</dd>\n",
       "\t<dt>25%</dt>\n",
       "\t\t<dd>57.75</dd>\n",
       "\t<dt>50%</dt>\n",
       "\t\t<dd>99.5</dd>\n",
       "\t<dt>75%</dt>\n",
       "\t\t<dd>155.75</dd>\n",
       "</dl>\n"
      ],
      "text/latex": [
       "\\begin{description*}\n",
       "\\item[5\\textbackslash{}\\%] 8.95\n",
       "\\item[25\\textbackslash{}\\%] 57.75\n",
       "\\item[50\\textbackslash{}\\%] 99.5\n",
       "\\item[75\\textbackslash{}\\%] 155.75\n",
       "\\end{description*}\n"
      ],
      "text/markdown": [
       "5%\n",
       ":   8.9525%\n",
       ":   57.7550%\n",
       ":   99.575%\n",
       ":   155.75\n",
       "\n"
      ],
      "text/plain": [
       "    5%    25%    50%    75% \n",
       "  8.95  57.75  99.50 155.75 "
      ]
     },
     "metadata": {},
     "output_type": "display_data"
    },
    {
     "data": {
      "image/png": "[encoded data removed]",
      "text/plain": [
       "Plot with title \"Rank x Especialização\""
      ]
     },
     "metadata": {},
     "output_type": "display_data"
    }
   ],
   "source": [
    "boxplot(df_original[df_original$specialisation == \"Mkt&HR\",]$sl_no, \n",
    "        df_original[df_original$specialisation == \"Mkt&Fin\",]$sl_no,\n",
    "        main = \"Rank x Especialização\",\n",
    "        names = c(\"Mkt&HR\", \"Mkt&Fin\")\n",
    "       )\n",
    "print(\"Mkt&HR\")\n",
    "quantile(df_original[df_original$specialisation == \"Mkt&HR\",]$sl_no, p=c(0.05,0.25,0.5,0.75))\n",
    "print(\"Mkt&Fin\")\n",
    "quantile(df_original[df_original$specialisation == \"Mkt&Fin\",]$sl_no, p=c(0.05,0.25,0.5,0.75))"
   ]
  },
  {
   "cell_type": "code",
   "execution_count": 221,
   "id": "professional-taxation",
   "metadata": {},
   "outputs": [],
   "source": [
    "gender <- c(df_no_salary$gender)\n",
    "factores_gender <- factor(gender)\n",
    "df_no_salary$gender <- factores_gender\n",
    "\n",
    "ssc_b <- c(df_no_salary$ssc_b)\n",
    "factores_ssc_b <- factor(ssc_b)\n",
    "df_no_salary$ssc_b <- factores_ssc_b\n",
    "\n",
    "hsc_b <- c(df_no_salary$hsc_b)\n",
    "factores_hsc_b <- factor(hsc_b)\n",
    "df_no_salary$hsc_b <- factores_hsc_b\n",
    "\n",
    "hsc_s <- c(df_no_salary$hsc_s)\n",
    "factores_hsc_s <- factor(hsc_s)\n",
    "df_no_salary$hsc_s <- factores_hsc_s\n",
    "\n",
    "degree_t <- c(df_no_salary$degree_t)\n",
    "factores_degree_t <- factor(degree_t)\n",
    "df_no_salary$degree_t <- factores_degree_t\n",
    "\n",
    "workex <- c(df_no_salary$workex)\n",
    "factores_workex <- factor(workex)\n",
    "df_no_salary$workex <- factores_workex\n",
    "\n",
    "specialisation <- c(df_no_salary$specialisation)\n",
    "factores_specialisation <- factor(specialisation)\n",
    "df_no_salary$specialisation <- factores_specialisation\n",
    "\n",
    "status <- c(df_no_salary$status)\n",
    "factores_status <- factor(status)\n",
    "df_no_salary$status <- factores_status"
   ]
  },
  {
   "cell_type": "markdown",
   "id": "empirical-error",
   "metadata": {},
   "source": [
    "links das referências:\n",
    "\n",
    "#https://stackoverflow.com/questions/38620424/label-encoder-functionality-in-r\n",
    "\n",
    "#https://youtu.be/ViIBKzekdz0\n",
    "\n",
    "#https://scikit-learn.org/stable/modules/generated/sklearn.preprocessing.LabelEncoder.html"
   ]
  },
  {
   "cell_type": "code",
   "execution_count": 222,
   "id": "nasty-kinase",
   "metadata": {
    "scrolled": true
   },
   "outputs": [],
   "source": [
    "#Passo 8: Biblioteca de onde o naiveBayes é chamada\n",
    "library(klaR)"
   ]
  },
  {
   "cell_type": "code",
   "execution_count": 223,
   "id": "owned-creation",
   "metadata": {
    "scrolled": true
   },
   "outputs": [
    {
     "data": {
      "text/plain": [
       "$sl_no\n",
       "      [,1]     [,2]\n",
       "1 110.4776 65.85967\n",
       "2 106.8784 60.68250\n",
       "\n",
       "$gender\n",
       "        var\n",
       "grouping         1         2\n",
       "       1 0.4179104 0.5820896\n",
       "       2 0.3243243 0.6756757\n",
       "\n",
       "$ssc_p\n",
       "      [,1]     [,2]\n",
       "1 57.54403 8.394246\n",
       "2 71.72149 8.715445\n",
       "\n",
       "$ssc_b\n",
       "        var\n",
       "grouping         1         2\n",
       "       1 0.5671642 0.4328358\n",
       "       2 0.5270270 0.4729730\n",
       "\n",
       "$hsc_p\n",
       "      [,1]     [,2]\n",
       "1 58.39552 9.914090\n",
       "2 69.92655 9.329268\n",
       "\n",
       "$hsc_b\n",
       "        var\n",
       "grouping         1         2\n",
       "       1 0.4029851 0.5970149\n",
       "       2 0.3851351 0.6148649\n",
       "\n",
       "$hsc_s\n",
       "        var\n",
       "grouping          1          2          3\n",
       "       1 0.07462687 0.50746269 0.41791045\n",
       "       2 0.04054054 0.53378378 0.42567568\n",
       "\n",
       "$degree_p\n",
       "      [,1]     [,2]\n",
       "1 61.13418 6.365825\n",
       "2 68.74054 6.518087\n",
       "\n",
       "$degree_t\n",
       "        var\n",
       "grouping          1          2          3\n",
       "       1 0.64179104 0.08955224 0.26865672\n",
       "       2 0.68918919 0.03378378 0.27702703\n",
       "\n",
       "$workex\n",
       "        var\n",
       "grouping         1         2\n",
       "       1 0.8507463 0.1492537\n",
       "       2 0.5675676 0.4324324\n",
       "\n",
       "$etest_p\n",
       "      [,1]     [,2]\n",
       "1 69.58791 11.93069\n",
       "2 73.23804 13.72933\n",
       "\n",
       "$specialisation\n",
       "        var\n",
       "grouping         1         2\n",
       "       1 0.3731343 0.6268657\n",
       "       2 0.6418919 0.3581081\n",
       "\n",
       "$mba_p\n",
       "      [,1]     [,2]\n",
       "1 61.61284 5.705689\n",
       "2 62.57939 5.884583\n"
      ]
     },
     "metadata": {},
     "output_type": "display_data"
    }
   ],
   "source": [
    "#Passo 8: Treinando o modelo\n",
    "naive_model <- NaiveBayes(status ~ ., data = na.omit(df_no_salary))\n",
    "naive_model$table"
   ]
  },
  {
   "cell_type": "code",
   "execution_count": 224,
   "id": "frozen-incentive",
   "metadata": {},
   "outputs": [
    {
     "data": {
      "text/html": [
       "<table>\n",
       "<thead><tr><th scope=col>sl_no</th><th scope=col>gender</th><th scope=col>ssc_p</th><th scope=col>ssc_b</th><th scope=col>hsc_p</th><th scope=col>hsc_b</th><th scope=col>hsc_s</th><th scope=col>degree_p</th><th scope=col>degree_t</th><th scope=col>workex</th><th scope=col>etest_p</th><th scope=col>specialisation</th><th scope=col>mba_p</th></tr></thead>\n",
       "<tbody>\n",
       "\t<tr><td>4    </td><td>2    </td><td>56   </td><td>1    </td><td>52   </td><td>1    </td><td>3    </td><td>52   </td><td>3    </td><td>1    </td><td>66   </td><td>2    </td><td>59.43</td></tr>\n",
       "</tbody>\n",
       "</table>\n"
      ],
      "text/latex": [
       "\\begin{tabular}{r|lllllllllllll}\n",
       " sl\\_no & gender & ssc\\_p & ssc\\_b & hsc\\_p & hsc\\_b & hsc\\_s & degree\\_p & degree\\_t & workex & etest\\_p & specialisation & mba\\_p\\\\\n",
       "\\hline\n",
       "\t 4     & 2     & 56    & 1     & 52    & 1     & 3     & 52    & 3     & 1     & 66    & 2     & 59.43\\\\\n",
       "\\end{tabular}\n"
      ],
      "text/markdown": [
       "\n",
       "| sl_no | gender | ssc_p | ssc_b | hsc_p | hsc_b | hsc_s | degree_p | degree_t | workex | etest_p | specialisation | mba_p |\n",
       "|---|---|---|---|---|---|---|---|---|---|---|---|---|\n",
       "| 4     | 2     | 56    | 1     | 52    | 1     | 3     | 52    | 3     | 1     | 66    | 2     | 59.43 |\n",
       "\n"
      ],
      "text/plain": [
       "  sl_no gender ssc_p ssc_b hsc_p hsc_b hsc_s degree_p degree_t workex etest_p\n",
       "1 4     2      56    1     52    1     3     52       3        1      66     \n",
       "  specialisation mba_p\n",
       "1 2              59.43"
      ]
     },
     "metadata": {},
     "output_type": "display_data"
    }
   ],
   "source": [
    "#Passo 8: selecionando o atributo a ser realocado\n",
    "new_loan <- df_no_salary[4, c('sl_no', 'gender', 'ssc_p', 'ssc_b', 'hsc_p', 'hsc_b', 'hsc_s', 'degree_p', 'degree_t', 'workex', 'etest_p', 'specialisation', 'mba_p')]\n",
    "row.names(new_loan) <- NULL\n",
    "new_loan"
   ]
  },
  {
   "cell_type": "code",
   "execution_count": 225,
   "id": "demanding-berlin",
   "metadata": {},
   "outputs": [
    {
     "name": "stderr",
     "output_type": "stream",
     "text": [
      "Warning message in FUN(X[[i]], ...):\n",
      "\"Numerical 0 probability for all classes with observation 1\""
     ]
    },
    {
     "data": {
      "text/html": [
       "<dl>\n",
       "\t<dt>$class</dt>\n",
       "\t\t<dd>1\n",
       "<details>\n",
       "\t<summary style=display:list-item;cursor:pointer>\n",
       "\t\t<strong>Levels</strong>:\n",
       "\t</summary>\n",
       "\t<ol class=list-inline>\n",
       "\t\t<li>'1'</li>\n",
       "\t\t<li>'2'</li>\n",
       "\t</ol>\n",
       "</details></dd>\n",
       "\t<dt>$posterior</dt>\n",
       "\t\t<dd><table>\n",
       "<thead><tr><th scope=col>1</th><th scope=col>2</th></tr></thead>\n",
       "<tbody>\n",
       "\t<tr><td>0.9975107  </td><td>0.002489263</td></tr>\n",
       "</tbody>\n",
       "</table>\n",
       "</dd>\n",
       "</dl>\n"
      ],
      "text/latex": [
       "\\begin{description}\n",
       "\\item[\\$class] 1\n",
       "\\emph{Levels}: \\begin{enumerate*}\n",
       "\\item '1'\n",
       "\\item '2'\n",
       "\\end{enumerate*}\n",
       "\n",
       "\\item[\\$posterior] \\begin{tabular}{ll}\n",
       " 1 & 2\\\\\n",
       "\\hline\n",
       "\t 0.9975107   & 0.002489263\\\\\n",
       "\\end{tabular}\n",
       "\n",
       "\\end{description}\n"
      ],
      "text/markdown": [
       "$class\n",
       ":   1\n",
       "**Levels**: 1. '1'\n",
       "2. '2'\n",
       "\n",
       "\n",
       "\n",
       "$posterior\n",
       ":   \n",
       "| 1 | 2 |\n",
       "|---|---|\n",
       "| 0.9975107   | 0.002489263 |\n",
       "\n",
       "\n",
       "\n",
       "\n"
      ],
      "text/plain": [
       "$class\n",
       "[1] 1\n",
       "Levels: 1 2\n",
       "\n",
       "$posterior\n",
       "             1           2\n",
       "[1,] 0.9975107 0.002489263\n"
      ]
     },
     "metadata": {},
     "output_type": "display_data"
    }
   ],
   "source": [
    "#Passo 8: Previsão de realocação do indivíduo\n",
    "predict(naive_model, new_loan)"
   ]
  },
  {
   "cell_type": "code",
   "execution_count": 226,
   "id": "nutritional-edition",
   "metadata": {},
   "outputs": [
    {
     "name": "stderr",
     "output_type": "stream",
     "text": [
      "Warning message in FUN(X[[i]], ...):\n",
      "\"Numerical 0 probability for all classes with observation 1\"Warning message in FUN(X[[i]], ...):\n",
      "\"Numerical 0 probability for all classes with observation 2\"Warning message in FUN(X[[i]], ...):\n",
      "\"Numerical 0 probability for all classes with observation 3\"Warning message in FUN(X[[i]], ...):\n",
      "\"Numerical 0 probability for all classes with observation 4\"Warning message in FUN(X[[i]], ...):\n",
      "\"Numerical 0 probability for all classes with observation 5\"Warning message in FUN(X[[i]], ...):\n",
      "\"Numerical 0 probability for all classes with observation 6\"Warning message in FUN(X[[i]], ...):\n",
      "\"Numerical 0 probability for all classes with observation 7\"Warning message in FUN(X[[i]], ...):\n",
      "\"Numerical 0 probability for all classes with observation 8\"Warning message in FUN(X[[i]], ...):\n",
      "\"Numerical 0 probability for all classes with observation 9\"Warning message in FUN(X[[i]], ...):\n",
      "\"Numerical 0 probability for all classes with observation 10\"Warning message in FUN(X[[i]], ...):\n",
      "\"Numerical 0 probability for all classes with observation 11\"Warning message in FUN(X[[i]], ...):\n",
      "\"Numerical 0 probability for all classes with observation 12\"Warning message in FUN(X[[i]], ...):\n",
      "\"Numerical 0 probability for all classes with observation 13\"Warning message in FUN(X[[i]], ...):\n",
      "\"Numerical 0 probability for all classes with observation 14\"Warning message in FUN(X[[i]], ...):\n",
      "\"Numerical 0 probability for all classes with observation 15\"Warning message in FUN(X[[i]], ...):\n",
      "\"Numerical 0 probability for all classes with observation 16\"Warning message in FUN(X[[i]], ...):\n",
      "\"Numerical 0 probability for all classes with observation 17\"Warning message in FUN(X[[i]], ...):\n",
      "\"Numerical 0 probability for all classes with observation 18\"Warning message in FUN(X[[i]], ...):\n",
      "\"Numerical 0 probability for all classes with observation 19\"Warning message in FUN(X[[i]], ...):\n",
      "\"Numerical 0 probability for all classes with observation 20\"Warning message in FUN(X[[i]], ...):\n",
      "\"Numerical 0 probability for all classes with observation 21\"Warning message in FUN(X[[i]], ...):\n",
      "\"Numerical 0 probability for all classes with observation 22\"Warning message in FUN(X[[i]], ...):\n",
      "\"Numerical 0 probability for all classes with observation 23\"Warning message in FUN(X[[i]], ...):\n",
      "\"Numerical 0 probability for all classes with observation 24\"Warning message in FUN(X[[i]], ...):\n",
      "\"Numerical 0 probability for all classes with observation 25\"Warning message in FUN(X[[i]], ...):\n",
      "\"Numerical 0 probability for all classes with observation 26\"Warning message in FUN(X[[i]], ...):\n",
      "\"Numerical 0 probability for all classes with observation 27\"Warning message in FUN(X[[i]], ...):\n",
      "\"Numerical 0 probability for all classes with observation 28\"Warning message in FUN(X[[i]], ...):\n",
      "\"Numerical 0 probability for all classes with observation 29\"Warning message in FUN(X[[i]], ...):\n",
      "\"Numerical 0 probability for all classes with observation 30\"Warning message in FUN(X[[i]], ...):\n",
      "\"Numerical 0 probability for all classes with observation 31\"Warning message in FUN(X[[i]], ...):\n",
      "\"Numerical 0 probability for all classes with observation 32\"Warning message in FUN(X[[i]], ...):\n",
      "\"Numerical 0 probability for all classes with observation 33\"Warning message in FUN(X[[i]], ...):\n",
      "\"Numerical 0 probability for all classes with observation 34\"Warning message in FUN(X[[i]], ...):\n",
      "\"Numerical 0 probability for all classes with observation 35\"Warning message in FUN(X[[i]], ...):\n",
      "\"Numerical 0 probability for all classes with observation 36\"Warning message in FUN(X[[i]], ...):\n",
      "\"Numerical 0 probability for all classes with observation 37\"Warning message in FUN(X[[i]], ...):\n",
      "\"Numerical 0 probability for all classes with observation 38\"Warning message in FUN(X[[i]], ...):\n",
      "\"Numerical 0 probability for all classes with observation 39\"Warning message in FUN(X[[i]], ...):\n",
      "\"Numerical 0 probability for all classes with observation 40\"Warning message in FUN(X[[i]], ...):\n",
      "\"Numerical 0 probability for all classes with observation 41\"Warning message in FUN(X[[i]], ...):\n",
      "\"Numerical 0 probability for all classes with observation 42\"Warning message in FUN(X[[i]], ...):\n",
      "\"Numerical 0 probability for all classes with observation 43\"Warning message in FUN(X[[i]], ...):\n",
      "\"Numerical 0 probability for all classes with observation 44\"Warning message in FUN(X[[i]], ...):\n",
      "\"Numerical 0 probability for all classes with observation 45\"Warning message in FUN(X[[i]], ...):\n",
      "\"Numerical 0 probability for all classes with observation 46\"Warning message in FUN(X[[i]], ...):\n",
      "\"Numerical 0 probability for all classes with observation 47\"Warning message in FUN(X[[i]], ...):\n",
      "\"Numerical 0 probability for all classes with observation 48\"Warning message in FUN(X[[i]], ...):\n",
      "\"Numerical 0 probability for all classes with observation 49\"Warning message in FUN(X[[i]], ...):\n",
      "\"Numerical 0 probability for all classes with observation 50\"Warning message in FUN(X[[i]], ...):\n",
      "\"Numerical 0 probability for all classes with observation 51\"Warning message in FUN(X[[i]], ...):\n",
      "\"Numerical 0 probability for all classes with observation 52\"Warning message in FUN(X[[i]], ...):\n",
      "\"Numerical 0 probability for all classes with observation 53\"Warning message in FUN(X[[i]], ...):\n",
      "\"Numerical 0 probability for all classes with observation 54\"Warning message in FUN(X[[i]], ...):\n",
      "\"Numerical 0 probability for all classes with observation 55\"Warning message in FUN(X[[i]], ...):\n",
      "\"Numerical 0 probability for all classes with observation 56\"Warning message in FUN(X[[i]], ...):\n",
      "\"Numerical 0 probability for all classes with observation 57\"Warning message in FUN(X[[i]], ...):\n",
      "\"Numerical 0 probability for all classes with observation 58\"Warning message in FUN(X[[i]], ...):\n",
      "\"Numerical 0 probability for all classes with observation 59\"Warning message in FUN(X[[i]], ...):\n",
      "\"Numerical 0 probability for all classes with observation 60\"Warning message in FUN(X[[i]], ...):\n",
      "\"Numerical 0 probability for all classes with observation 61\"Warning message in FUN(X[[i]], ...):\n",
      "\"Numerical 0 probability for all classes with observation 62\"Warning message in FUN(X[[i]], ...):\n",
      "\"Numerical 0 probability for all classes with observation 63\"Warning message in FUN(X[[i]], ...):\n",
      "\"Numerical 0 probability for all classes with observation 64\"Warning message in FUN(X[[i]], ...):\n",
      "\"Numerical 0 probability for all classes with observation 65\"Warning message in FUN(X[[i]], ...):\n",
      "\"Numerical 0 probability for all classes with observation 66\"Warning message in FUN(X[[i]], ...):\n",
      "\"Numerical 0 probability for all classes with observation 67\"Warning message in FUN(X[[i]], ...):\n",
      "\"Numerical 0 probability for all classes with observation 68\"Warning message in FUN(X[[i]], ...):\n",
      "\"Numerical 0 probability for all classes with observation 69\"Warning message in FUN(X[[i]], ...):\n",
      "\"Numerical 0 probability for all classes with observation 70\"Warning message in FUN(X[[i]], ...):\n",
      "\"Numerical 0 probability for all classes with observation 71\"Warning message in FUN(X[[i]], ...):\n",
      "\"Numerical 0 probability for all classes with observation 72\"Warning message in FUN(X[[i]], ...):\n",
      "\"Numerical 0 probability for all classes with observation 73\"Warning message in FUN(X[[i]], ...):\n",
      "\"Numerical 0 probability for all classes with observation 74\"Warning message in FUN(X[[i]], ...):\n",
      "\"Numerical 0 probability for all classes with observation 75\"Warning message in FUN(X[[i]], ...):\n",
      "\"Numerical 0 probability for all classes with observation 76\"Warning message in FUN(X[[i]], ...):\n",
      "\"Numerical 0 probability for all classes with observation 77\"Warning message in FUN(X[[i]], ...):\n",
      "\"Numerical 0 probability for all classes with observation 78\"Warning message in FUN(X[[i]], ...):\n",
      "\"Numerical 0 probability for all classes with observation 79\"Warning message in FUN(X[[i]], ...):\n",
      "\"Numerical 0 probability for all classes with observation 80\"Warning message in FUN(X[[i]], ...):\n",
      "\"Numerical 0 probability for all classes with observation 81\"Warning message in FUN(X[[i]], ...):\n",
      "\"Numerical 0 probability for all classes with observation 82\"Warning message in FUN(X[[i]], ...):\n",
      "\"Numerical 0 probability for all classes with observation 83\"Warning message in FUN(X[[i]], ...):\n"
     ]
    },
    {
     "name": "stderr",
     "output_type": "stream",
     "text": [
      "\"Numerical 0 probability for all classes with observation 84\"Warning message in FUN(X[[i]], ...):\n",
      "\"Numerical 0 probability for all classes with observation 85\"Warning message in FUN(X[[i]], ...):\n",
      "\"Numerical 0 probability for all classes with observation 86\"Warning message in FUN(X[[i]], ...):\n",
      "\"Numerical 0 probability for all classes with observation 87\"Warning message in FUN(X[[i]], ...):\n",
      "\"Numerical 0 probability for all classes with observation 88\"Warning message in FUN(X[[i]], ...):\n",
      "\"Numerical 0 probability for all classes with observation 89\"Warning message in FUN(X[[i]], ...):\n",
      "\"Numerical 0 probability for all classes with observation 90\"Warning message in FUN(X[[i]], ...):\n",
      "\"Numerical 0 probability for all classes with observation 91\"Warning message in FUN(X[[i]], ...):\n",
      "\"Numerical 0 probability for all classes with observation 92\"Warning message in FUN(X[[i]], ...):\n",
      "\"Numerical 0 probability for all classes with observation 93\"Warning message in FUN(X[[i]], ...):\n",
      "\"Numerical 0 probability for all classes with observation 94\"Warning message in FUN(X[[i]], ...):\n",
      "\"Numerical 0 probability for all classes with observation 95\"Warning message in FUN(X[[i]], ...):\n",
      "\"Numerical 0 probability for all classes with observation 96\"Warning message in FUN(X[[i]], ...):\n",
      "\"Numerical 0 probability for all classes with observation 97\"Warning message in FUN(X[[i]], ...):\n",
      "\"Numerical 0 probability for all classes with observation 98\"Warning message in FUN(X[[i]], ...):\n",
      "\"Numerical 0 probability for all classes with observation 99\"Warning message in FUN(X[[i]], ...):\n",
      "\"Numerical 0 probability for all classes with observation 100\"Warning message in FUN(X[[i]], ...):\n",
      "\"Numerical 0 probability for all classes with observation 101\"Warning message in FUN(X[[i]], ...):\n",
      "\"Numerical 0 probability for all classes with observation 102\"Warning message in FUN(X[[i]], ...):\n",
      "\"Numerical 0 probability for all classes with observation 103\"Warning message in FUN(X[[i]], ...):\n",
      "\"Numerical 0 probability for all classes with observation 104\"Warning message in FUN(X[[i]], ...):\n",
      "\"Numerical 0 probability for all classes with observation 105\"Warning message in FUN(X[[i]], ...):\n",
      "\"Numerical 0 probability for all classes with observation 106\"Warning message in FUN(X[[i]], ...):\n",
      "\"Numerical 0 probability for all classes with observation 107\"Warning message in FUN(X[[i]], ...):\n",
      "\"Numerical 0 probability for all classes with observation 108\"Warning message in FUN(X[[i]], ...):\n",
      "\"Numerical 0 probability for all classes with observation 109\"Warning message in FUN(X[[i]], ...):\n",
      "\"Numerical 0 probability for all classes with observation 110\"Warning message in FUN(X[[i]], ...):\n",
      "\"Numerical 0 probability for all classes with observation 111\"Warning message in FUN(X[[i]], ...):\n",
      "\"Numerical 0 probability for all classes with observation 112\"Warning message in FUN(X[[i]], ...):\n",
      "\"Numerical 0 probability for all classes with observation 113\"Warning message in FUN(X[[i]], ...):\n",
      "\"Numerical 0 probability for all classes with observation 114\"Warning message in FUN(X[[i]], ...):\n",
      "\"Numerical 0 probability for all classes with observation 115\"Warning message in FUN(X[[i]], ...):\n",
      "\"Numerical 0 probability for all classes with observation 116\"Warning message in FUN(X[[i]], ...):\n",
      "\"Numerical 0 probability for all classes with observation 117\"Warning message in FUN(X[[i]], ...):\n",
      "\"Numerical 0 probability for all classes with observation 118\"Warning message in FUN(X[[i]], ...):\n",
      "\"Numerical 0 probability for all classes with observation 119\"Warning message in FUN(X[[i]], ...):\n",
      "\"Numerical 0 probability for all classes with observation 120\"Warning message in FUN(X[[i]], ...):\n",
      "\"Numerical 0 probability for all classes with observation 121\"Warning message in FUN(X[[i]], ...):\n",
      "\"Numerical 0 probability for all classes with observation 122\"Warning message in FUN(X[[i]], ...):\n",
      "\"Numerical 0 probability for all classes with observation 123\"Warning message in FUN(X[[i]], ...):\n",
      "\"Numerical 0 probability for all classes with observation 124\"Warning message in FUN(X[[i]], ...):\n",
      "\"Numerical 0 probability for all classes with observation 125\"Warning message in FUN(X[[i]], ...):\n",
      "\"Numerical 0 probability for all classes with observation 126\"Warning message in FUN(X[[i]], ...):\n",
      "\"Numerical 0 probability for all classes with observation 127\"Warning message in FUN(X[[i]], ...):\n",
      "\"Numerical 0 probability for all classes with observation 128\"Warning message in FUN(X[[i]], ...):\n",
      "\"Numerical 0 probability for all classes with observation 129\"Warning message in FUN(X[[i]], ...):\n",
      "\"Numerical 0 probability for all classes with observation 130\"Warning message in FUN(X[[i]], ...):\n",
      "\"Numerical 0 probability for all classes with observation 131\"Warning message in FUN(X[[i]], ...):\n",
      "\"Numerical 0 probability for all classes with observation 132\"Warning message in FUN(X[[i]], ...):\n",
      "\"Numerical 0 probability for all classes with observation 133\"Warning message in FUN(X[[i]], ...):\n",
      "\"Numerical 0 probability for all classes with observation 134\"Warning message in FUN(X[[i]], ...):\n",
      "\"Numerical 0 probability for all classes with observation 135\"Warning message in FUN(X[[i]], ...):\n",
      "\"Numerical 0 probability for all classes with observation 136\"Warning message in FUN(X[[i]], ...):\n",
      "\"Numerical 0 probability for all classes with observation 137\"Warning message in FUN(X[[i]], ...):\n",
      "\"Numerical 0 probability for all classes with observation 138\"Warning message in FUN(X[[i]], ...):\n",
      "\"Numerical 0 probability for all classes with observation 139\"Warning message in FUN(X[[i]], ...):\n",
      "\"Numerical 0 probability for all classes with observation 140\"Warning message in FUN(X[[i]], ...):\n",
      "\"Numerical 0 probability for all classes with observation 141\"Warning message in FUN(X[[i]], ...):\n",
      "\"Numerical 0 probability for all classes with observation 142\"Warning message in FUN(X[[i]], ...):\n",
      "\"Numerical 0 probability for all classes with observation 143\"Warning message in FUN(X[[i]], ...):\n",
      "\"Numerical 0 probability for all classes with observation 144\"Warning message in FUN(X[[i]], ...):\n",
      "\"Numerical 0 probability for all classes with observation 145\"Warning message in FUN(X[[i]], ...):\n",
      "\"Numerical 0 probability for all classes with observation 146\"Warning message in FUN(X[[i]], ...):\n",
      "\"Numerical 0 probability for all classes with observation 147\"Warning message in FUN(X[[i]], ...):\n",
      "\"Numerical 0 probability for all classes with observation 148\"Warning message in FUN(X[[i]], ...):\n",
      "\"Numerical 0 probability for all classes with observation 149\"Warning message in FUN(X[[i]], ...):\n",
      "\"Numerical 0 probability for all classes with observation 150\"Warning message in FUN(X[[i]], ...):\n",
      "\"Numerical 0 probability for all classes with observation 151\"Warning message in FUN(X[[i]], ...):\n",
      "\"Numerical 0 probability for all classes with observation 152\"Warning message in FUN(X[[i]], ...):\n",
      "\"Numerical 0 probability for all classes with observation 153\"Warning message in FUN(X[[i]], ...):\n",
      "\"Numerical 0 probability for all classes with observation 154\"Warning message in FUN(X[[i]], ...):\n",
      "\"Numerical 0 probability for all classes with observation 155\"Warning message in FUN(X[[i]], ...):\n",
      "\"Numerical 0 probability for all classes with observation 156\"Warning message in FUN(X[[i]], ...):\n",
      "\"Numerical 0 probability for all classes with observation 157\"Warning message in FUN(X[[i]], ...):\n",
      "\"Numerical 0 probability for all classes with observation 158\"Warning message in FUN(X[[i]], ...):\n",
      "\"Numerical 0 probability for all classes with observation 159\"Warning message in FUN(X[[i]], ...):\n",
      "\"Numerical 0 probability for all classes with observation 160\"Warning message in FUN(X[[i]], ...):\n",
      "\"Numerical 0 probability for all classes with observation 161\"Warning message in FUN(X[[i]], ...):\n",
      "\"Numerical 0 probability for all classes with observation 162\"Warning message in FUN(X[[i]], ...):\n",
      "\"Numerical 0 probability for all classes with observation 163\"Warning message in FUN(X[[i]], ...):\n",
      "\"Numerical 0 probability for all classes with observation 164\"Warning message in FUN(X[[i]], ...):\n",
      "\"Numerical 0 probability for all classes with observation 165\"Warning message in FUN(X[[i]], ...):\n",
      "\"Numerical 0 probability for all classes with observation 166\"Warning message in FUN(X[[i]], ...):\n"
     ]
    },
    {
     "name": "stderr",
     "output_type": "stream",
     "text": [
      "\"Numerical 0 probability for all classes with observation 167\"Warning message in FUN(X[[i]], ...):\n",
      "\"Numerical 0 probability for all classes with observation 168\"Warning message in FUN(X[[i]], ...):\n",
      "\"Numerical 0 probability for all classes with observation 169\"Warning message in FUN(X[[i]], ...):\n",
      "\"Numerical 0 probability for all classes with observation 170\"Warning message in FUN(X[[i]], ...):\n",
      "\"Numerical 0 probability for all classes with observation 171\"Warning message in FUN(X[[i]], ...):\n",
      "\"Numerical 0 probability for all classes with observation 172\"Warning message in FUN(X[[i]], ...):\n",
      "\"Numerical 0 probability for all classes with observation 173\"Warning message in FUN(X[[i]], ...):\n",
      "\"Numerical 0 probability for all classes with observation 174\"Warning message in FUN(X[[i]], ...):\n",
      "\"Numerical 0 probability for all classes with observation 175\"Warning message in FUN(X[[i]], ...):\n",
      "\"Numerical 0 probability for all classes with observation 176\"Warning message in FUN(X[[i]], ...):\n",
      "\"Numerical 0 probability for all classes with observation 177\"Warning message in FUN(X[[i]], ...):\n",
      "\"Numerical 0 probability for all classes with observation 178\"Warning message in FUN(X[[i]], ...):\n",
      "\"Numerical 0 probability for all classes with observation 179\"Warning message in FUN(X[[i]], ...):\n",
      "\"Numerical 0 probability for all classes with observation 180\"Warning message in FUN(X[[i]], ...):\n",
      "\"Numerical 0 probability for all classes with observation 181\"Warning message in FUN(X[[i]], ...):\n",
      "\"Numerical 0 probability for all classes with observation 182\"Warning message in FUN(X[[i]], ...):\n",
      "\"Numerical 0 probability for all classes with observation 183\"Warning message in FUN(X[[i]], ...):\n",
      "\"Numerical 0 probability for all classes with observation 184\"Warning message in FUN(X[[i]], ...):\n",
      "\"Numerical 0 probability for all classes with observation 185\"Warning message in FUN(X[[i]], ...):\n",
      "\"Numerical 0 probability for all classes with observation 186\"Warning message in FUN(X[[i]], ...):\n",
      "\"Numerical 0 probability for all classes with observation 187\"Warning message in FUN(X[[i]], ...):\n",
      "\"Numerical 0 probability for all classes with observation 188\"Warning message in FUN(X[[i]], ...):\n",
      "\"Numerical 0 probability for all classes with observation 189\"Warning message in FUN(X[[i]], ...):\n",
      "\"Numerical 0 probability for all classes with observation 190\"Warning message in FUN(X[[i]], ...):\n",
      "\"Numerical 0 probability for all classes with observation 191\"Warning message in FUN(X[[i]], ...):\n",
      "\"Numerical 0 probability for all classes with observation 192\"Warning message in FUN(X[[i]], ...):\n",
      "\"Numerical 0 probability for all classes with observation 193\"Warning message in FUN(X[[i]], ...):\n",
      "\"Numerical 0 probability for all classes with observation 194\"Warning message in FUN(X[[i]], ...):\n",
      "\"Numerical 0 probability for all classes with observation 195\"Warning message in FUN(X[[i]], ...):\n",
      "\"Numerical 0 probability for all classes with observation 196\"Warning message in FUN(X[[i]], ...):\n",
      "\"Numerical 0 probability for all classes with observation 197\"Warning message in FUN(X[[i]], ...):\n",
      "\"Numerical 0 probability for all classes with observation 198\"Warning message in FUN(X[[i]], ...):\n",
      "\"Numerical 0 probability for all classes with observation 199\"Warning message in FUN(X[[i]], ...):\n",
      "\"Numerical 0 probability for all classes with observation 200\"Warning message in FUN(X[[i]], ...):\n",
      "\"Numerical 0 probability for all classes with observation 201\"Warning message in FUN(X[[i]], ...):\n",
      "\"Numerical 0 probability for all classes with observation 202\"Warning message in FUN(X[[i]], ...):\n",
      "\"Numerical 0 probability for all classes with observation 203\"Warning message in FUN(X[[i]], ...):\n",
      "\"Numerical 0 probability for all classes with observation 204\"Warning message in FUN(X[[i]], ...):\n",
      "\"Numerical 0 probability for all classes with observation 205\"Warning message in FUN(X[[i]], ...):\n",
      "\"Numerical 0 probability for all classes with observation 206\"Warning message in FUN(X[[i]], ...):\n",
      "\"Numerical 0 probability for all classes with observation 207\"Warning message in FUN(X[[i]], ...):\n",
      "\"Numerical 0 probability for all classes with observation 208\"Warning message in FUN(X[[i]], ...):\n",
      "\"Numerical 0 probability for all classes with observation 209\"Warning message in FUN(X[[i]], ...):\n",
      "\"Numerical 0 probability for all classes with observation 210\"Warning message in FUN(X[[i]], ...):\n",
      "\"Numerical 0 probability for all classes with observation 211\"Warning message in FUN(X[[i]], ...):\n",
      "\"Numerical 0 probability for all classes with observation 212\"Warning message in FUN(X[[i]], ...):\n",
      "\"Numerical 0 probability for all classes with observation 213\"Warning message in FUN(X[[i]], ...):\n",
      "\"Numerical 0 probability for all classes with observation 214\"Warning message in FUN(X[[i]], ...):\n",
      "\"Numerical 0 probability for all classes with observation 215\""
     ]
    }
   ],
   "source": [
    "#Passo 9: Previsão para a confusion matrix\n",
    "pred <- predict(naive_model, newdata=df_no_salary)"
   ]
  },
  {
   "cell_type": "code",
   "execution_count": 275,
   "id": "shared-bulletin",
   "metadata": {
    "scrolled": false
   },
   "outputs": [
    {
     "data": {
      "text/html": [
       "<table>\n",
       "<thead><tr><th></th><th scope=col>Yhat = 1</th><th scope=col>Yhat = 0</th></tr></thead>\n",
       "<tbody>\n",
       "\t<tr><th scope=row>Y = 1</th><td> 16</td><td>185</td></tr>\n",
       "\t<tr><th scope=row>Y = 0</th><td>132</td><td>312</td></tr>\n",
       "</tbody>\n",
       "</table>\n"
      ],
      "text/latex": [
       "\\begin{tabular}{r|ll}\n",
       "  & Yhat = 1 & Yhat = 0\\\\\n",
       "\\hline\n",
       "\tY = 1 &  16 & 185\\\\\n",
       "\tY = 0 & 132 & 312\\\\\n",
       "\\end{tabular}\n"
      ],
      "text/markdown": [
       "\n",
       "| <!--/--> | Yhat = 1 | Yhat = 0 |\n",
       "|---|---|---|\n",
       "| Y = 1 |  16 | 185 |\n",
       "| Y = 0 | 132 | 312 |\n",
       "\n"
      ],
      "text/plain": [
       "      Yhat = 1 Yhat = 0\n",
       "Y = 1  16      185     \n",
       "Y = 0 132      312     "
      ]
     },
     "metadata": {},
     "output_type": "display_data"
    }
   ],
   "source": [
    "#Passo 9: Avaliação do modelo\n",
    "\n",
    "# Confusion matrix\n",
    "pred_y <- as.numeric(unlist(pred) > 1)\n",
    "true_y <- as.numeric(df_no_salary$status==1)\n",
    "true_pos <- (true_y==1) & (pred_y==1)\n",
    "true_neg <- (true_y==0) & (pred_y==0)\n",
    "false_pos <- (true_y==0) & (pred_y==1)\n",
    "false_neg <- (true_y==1) & (pred_y==0)\n",
    "conf_mat <- matrix(c(sum(true_pos), sum(false_pos),\n",
    "sum(false_neg), sum(true_neg)), 2, 2)\n",
    "colnames(conf_mat) <- c('Yhat = 1', 'Yhat = 0')\n",
    "rownames(conf_mat) <- c('Y = 1', 'Y = 0')\n",
    "conf_mat"
   ]
  },
  {
   "cell_type": "code",
   "execution_count": 276,
   "id": "sought-harris",
   "metadata": {
    "scrolled": true
   },
   "outputs": [
    {
     "name": "stdout",
     "output_type": "stream",
     "text": [
      "[1] \"Precision:  0.108108108108108\"\n",
      "[1] \"Recall:  0.0796019900497512\"\n",
      "[1] \"Specificity:  0.702702702702703\"\n"
     ]
    }
   ],
   "source": [
    "print(paste(\"Precision: \", (conf_mat[1, 1] / sum(conf_mat[,1]))))\n",
    "print(paste(\"Recall: \", (conf_mat[1, 1] / sum(conf_mat[1,]))))\n",
    "print(paste(\"Specificity: \", (conf_mat[2, 2] / sum(conf_mat[2,]))))"
   ]
  },
  {
   "cell_type": "markdown",
   "id": "direct-november",
   "metadata": {},
   "source": [
    "Precisão: Indica que a cada cem realocações é esperado que dez delas esteja correta.\n",
    "\n",
    "Recall: Indica que a cada cem realocações, sete delas estarão realmente corretas."
   ]
  },
  {
   "cell_type": "code",
   "execution_count": 229,
   "id": "different-conclusion",
   "metadata": {},
   "outputs": [],
   "source": [
    "library('ggplot2')"
   ]
  },
  {
   "cell_type": "code",
   "execution_count": 266,
   "id": "facial-finance",
   "metadata": {
    "scrolled": true
   },
   "outputs": [
    {
     "name": "stderr",
     "output_type": "stream",
     "text": [
      "Warning message:\n",
      "\"Removed 430 rows containing missing values (geom_path).\""
     ]
    },
    {
     "data": {
      "image/png": "[encoded data removed]",
      "text/plain": [
       "plot without title"
      ]
     },
     "metadata": {},
     "output_type": "display_data"
    }
   ],
   "source": [
    "#Passo 9: Gráfico ROC\n",
    "\n",
    "pred <- as.numeric(unlist(pred))\n",
    "idx <- order(-predd)\n",
    "recall <- cumsum(true_y[idx] == 1) / sum(true_y == 1)\n",
    "specificity <- (sum(true_y == 0) - cumsum(true_y[idx] == 0)) / sum(true_y == 0)\n",
    "roc_df <- data.frame(recall = recall, specificity = specificity)\n",
    "graph <- ggplot(roc_df, aes(x=specificity, y=recall)) +\n",
    " geom_line(color='blue') + \n",
    " scale_x_reverse(expand=c(0, 0)) +\n",
    " scale_y_continuous(expand=c(0, 0)) + \n",
    " geom_line(data=data.frame(x=(0:100) / 100), aes(x=x, y=1-x),\n",
    " linetype='dotted', color='red') +\n",
    " theme_bw() + theme(plot.margin=unit(c(5.5, 10, 5.5, 5.5), \"points\"))\n",
    "graph"
   ]
  },
  {
   "cell_type": "markdown",
   "id": "casual-nickname",
   "metadata": {},
   "source": [
    "De acordo com esse gráfico ROC que é uma forma de avaliar a qualidade do modelo. Vejo que meu modelo de previsão, baseada na realocação \"Placed\", não possui uma qualidade boa, pois, sua curva está mais próxima do canto inferior direito, ou seja, do zero. "
   ]
  },
  {
   "cell_type": "code",
   "execution_count": 231,
   "id": "mexican-pledge",
   "metadata": {
    "scrolled": true
   },
   "outputs": [
    {
     "data": {
      "image/png": "[encoded data removed]",
      "text/plain": [
       "plot without title"
      ]
     },
     "metadata": {},
     "output_type": "display_data"
    }
   ],
   "source": [
    "#Passo 9: Gráfico AUC\n",
    "\n",
    "graph <- ggplot(roc_df, aes(specificity)) +\n",
    " geom_ribbon(aes(ymin=0, ymax=recall), fill='blue', alpha=.3) +\n",
    " scale_x_reverse(expand=c(0, 0)) +\n",
    " scale_y_continuous(expand=c(0, 0)) +\n",
    " labs(y='recall') +\n",
    " theme_bw() + theme(plot.margin=unit(c(5.5, 10, 5.5, 5.5), \"points\"))\n",
    "graph"
   ]
  },
  {
   "cell_type": "code",
   "execution_count": 232,
   "id": "historical-office",
   "metadata": {},
   "outputs": [],
   "source": [
    "#Passo 10: Criando a cópia do Original\n",
    "df_no_status <- data.frame(df_original)\n",
    "df_no_status$status <- NULL"
   ]
  },
  {
   "cell_type": "code",
   "execution_count": 233,
   "id": "usual-finish",
   "metadata": {},
   "outputs": [],
   "source": [
    "#Passo 10: Aplicando o labelEnconder em df_no_status\n",
    "gender <- c(df_no_status$gender)\n",
    "factores_gender <- factor(gender)\n",
    "df_no_status$gender <- factores_gender\n",
    "\n",
    "ssc_b <- c(df_no_status$ssc_b)\n",
    "factores_ssc_b <- factor(ssc_b)\n",
    "df_no_status$ssc_b <- factores_ssc_b\n",
    "\n",
    "hsc_b <- c(df_no_status$hsc_b)\n",
    "factores_hsc_b <- factor(hsc_b)\n",
    "df_no_status$hsc_b <- factores_hsc_b\n",
    "\n",
    "hsc_s <- c(df_no_status$hsc_s)\n",
    "factores_hsc_s <- factor(hsc_s)\n",
    "df_no_status$hsc_s <- factores_hsc_s\n",
    "\n",
    "degree_t <- c(df_no_status$degree_t)\n",
    "factores_degree_t <- factor(degree_t)\n",
    "df_no_status$degree_t <- factores_degree_t\n",
    "\n",
    "workex <- c(df_no_status$workex)\n",
    "factores_workex <- factor(workex)\n",
    "df_no_status$workex <- factores_workex\n",
    "\n",
    "specialisation <- c(df_no_status$specialisation)\n",
    "factores_specialisation <- factor(specialisation)\n",
    "df_no_status$specialisation <- factores_specialisation\n",
    "#Fim  do labelEncoder"
   ]
  },
  {
   "cell_type": "code",
   "execution_count": 234,
   "id": "specialized-cooler",
   "metadata": {},
   "outputs": [],
   "source": [
    "#Passo 10: Separando os dois dataframes\n",
    "df_NAs <- data.frame(df_no_status[is.na(df_no_status$salary),])\n",
    "df_no_status_2 <- data.frame(df_no_status[!is.na(df_no_status$salary),])"
   ]
  },
  {
   "cell_type": "code",
   "execution_count": 252,
   "id": "grand-particular",
   "metadata": {
    "scrolled": true
   },
   "outputs": [
    {
     "data": {
      "text/plain": [
       "\n",
       "Call:\n",
       "lm(formula = salary ~ ., data = df_no_status_2)\n",
       "\n",
       "Residuals:\n",
       "    Min      1Q  Median      3Q     Max \n",
       "-121407  -44989  -17254   23270  601001 \n",
       "\n",
       "Coefficients:\n",
       "                 Estimate Std. Error t value Pr(>|t|)  \n",
       "(Intercept)      99506.85  116545.04   0.854   0.3948  \n",
       "sl_no               58.33     133.34   0.437   0.6625  \n",
       "gender2          24923.17   18026.47   1.383   0.1691  \n",
       "ssc_p             -908.95    1106.38  -0.822   0.4128  \n",
       "ssc_b2            2861.57   21706.05   0.132   0.8953  \n",
       "hsc_p              226.56    1042.75   0.217   0.8283  \n",
       "hsc_b2           -8943.23   21331.64  -0.419   0.6757  \n",
       "hsc_s2           63847.15   44149.42   1.446   0.1505  \n",
       "hsc_s3           50646.61   47209.10   1.073   0.2853  \n",
       "degree_p         -1852.85    1425.23  -1.300   0.1959  \n",
       "degree_t2        28726.49   49367.99   0.582   0.5616  \n",
       "degree_t3        40198.77   25478.06   1.578   0.1170  \n",
       "workex2           9060.50   16568.12   0.547   0.5854  \n",
       "etest_p            611.90     646.74   0.946   0.3458  \n",
       "specialisation2 -17937.97   17209.91  -1.042   0.2992  \n",
       "mba_p             3785.27    1707.31   2.217   0.0283 *\n",
       "---\n",
       "Signif. codes:  0 '***' 0.001 '**' 0.01 '*' 0.05 '.' 0.1 ' ' 1\n",
       "\n",
       "Residual standard error: 91320 on 132 degrees of freedom\n",
       "Multiple R-squared:  0.1427,\tAdjusted R-squared:  0.0453 \n",
       "F-statistic: 1.465 on 15 and 132 DF,  p-value: 0.1274\n"
      ]
     },
     "metadata": {},
     "output_type": "display_data"
    }
   ],
   "source": [
    "#Passo 11: Treinando o modelo \n",
    "modelo <- lm(salary ~ ., data=df_no_status_2)\n",
    "summary(modelo)"
   ]
  },
  {
   "cell_type": "code",
   "execution_count": 236,
   "id": "burning-treasurer",
   "metadata": {},
   "outputs": [],
   "source": [
    "#Passo 11: Prevendo os resultados\n",
    "df_result <- data.frame(salary=predict(modelo, df_NAs)) "
   ]
  },
  {
   "cell_type": "code",
   "execution_count": 237,
   "id": "regulated-marine",
   "metadata": {},
   "outputs": [],
   "source": [
    "#Passo 12: Substituindo os valores previstos em df_NAs\n",
    "df_NAs$salary <- df_result$salary "
   ]
  },
  {
   "cell_type": "code",
   "execution_count": 238,
   "id": "ecological-dream",
   "metadata": {},
   "outputs": [],
   "source": [
    "#Passo 12: Concatenação dos dois dataframes\n",
    "novo <- data.frame(rbind(df_NAs, df_no_status_2))"
   ]
  },
  {
   "cell_type": "code",
   "execution_count": 239,
   "id": "interesting-korea",
   "metadata": {},
   "outputs": [],
   "source": [
    "#Passo 12: Ordenação do dataframe depois de ter concatenado anteriormente\n",
    "df_no_status <- novo[order(novo$sl_no),]"
   ]
  },
  {
   "cell_type": "code",
   "execution_count": 251,
   "id": "third-makeup",
   "metadata": {},
   "outputs": [],
   "source": [
    "#Passo 13: Copiando para df_original\n",
    "df_original$salary <- df_no_status$salary"
   ]
  },
  {
   "cell_type": "code",
   "execution_count": 250,
   "id": "arabic-officer",
   "metadata": {
    "scrolled": false
   },
   "outputs": [],
   "source": [
    "#Aplicando o Label Encoder em df_original\n",
    "\n",
    "gender <- c(df_original$gender)\n",
    "factores_gender <- factor(gender)\n",
    "df_original$gender <- factores_gender\n",
    "\n",
    "ssc_b <- c(df_original$ssc_b)\n",
    "factores_ssc_b <- factor(ssc_b)\n",
    "df_original$ssc_b <- factores_ssc_b\n",
    "\n",
    "hsc_b <- c(df_original$hsc_b)\n",
    "factores_hsc_b <- factor(hsc_b)\n",
    "df_original$hsc_b <- factores_hsc_b\n",
    "\n",
    "hsc_s <- c(df_original$hsc_s)\n",
    "factores_hsc_s <- factor(hsc_s)\n",
    "df_original$hsc_s <- factores_hsc_s\n",
    "\n",
    "degree_t <- c(df_original$degree_t)\n",
    "factores_degree_t <- factor(degree_t)\n",
    "df_original$degree_t <- factores_degree_t\n",
    "\n",
    "workex <- c(df_original$workex)\n",
    "factores_workex <- factor(workex)\n",
    "df_original$workex <- factores_workex\n",
    "\n",
    "specialisation <- c(df_original$specialisation)\n",
    "factores_specialisation <- factor(specialisation)\n",
    "df_original$specialisation <- factores_specialisation\n",
    "\n",
    "status <- c(df_original$status)\n",
    "factores_status <- factor(status)\n",
    "df_original$status <- factores_status"
   ]
  },
  {
   "cell_type": "code",
   "execution_count": 242,
   "id": "shared-acting",
   "metadata": {},
   "outputs": [],
   "source": [
    "#Passo 14: Treiando o modelo com o df_original atualizado\n",
    "library(klaR)\n",
    "naive_model_atual <- NaiveBayes(status ~ ., data = na.omit(df_original))"
   ]
  },
  {
   "cell_type": "code",
   "execution_count": 243,
   "id": "diverse-foster",
   "metadata": {},
   "outputs": [
    {
     "data": {
      "text/html": [
       "<table>\n",
       "<thead><tr><th scope=col>sl_no</th><th scope=col>gender</th><th scope=col>ssc_p</th><th scope=col>ssc_b</th><th scope=col>hsc_p</th><th scope=col>hsc_b</th><th scope=col>hsc_s</th><th scope=col>degree_p</th><th scope=col>degree_t</th><th scope=col>workex</th><th scope=col>etest_p</th><th scope=col>specialisation</th><th scope=col>mba_p</th><th scope=col>salary</th></tr></thead>\n",
       "<tbody>\n",
       "\t<tr><td>4       </td><td>2       </td><td>56      </td><td>1       </td><td>52      </td><td>1       </td><td>3       </td><td>52      </td><td>3       </td><td>1       </td><td>66      </td><td>2       </td><td>59.43   </td><td>327446.2</td></tr>\n",
       "</tbody>\n",
       "</table>\n"
      ],
      "text/latex": [
       "\\begin{tabular}{r|llllllllllllll}\n",
       " sl\\_no & gender & ssc\\_p & ssc\\_b & hsc\\_p & hsc\\_b & hsc\\_s & degree\\_p & degree\\_t & workex & etest\\_p & specialisation & mba\\_p & salary\\\\\n",
       "\\hline\n",
       "\t 4        & 2        & 56       & 1        & 52       & 1        & 3        & 52       & 3        & 1        & 66       & 2        & 59.43    & 327446.2\\\\\n",
       "\\end{tabular}\n"
      ],
      "text/markdown": [
       "\n",
       "| sl_no | gender | ssc_p | ssc_b | hsc_p | hsc_b | hsc_s | degree_p | degree_t | workex | etest_p | specialisation | mba_p | salary |\n",
       "|---|---|---|---|---|---|---|---|---|---|---|---|---|---|\n",
       "| 4        | 2        | 56       | 1        | 52       | 1        | 3        | 52       | 3        | 1        | 66       | 2        | 59.43    | 327446.2 |\n",
       "\n"
      ],
      "text/plain": [
       "  sl_no gender ssc_p ssc_b hsc_p hsc_b hsc_s degree_p degree_t workex etest_p\n",
       "1 4     2      56    1     52    1     3     52       3        1      66     \n",
       "  specialisation mba_p salary  \n",
       "1 2              59.43 327446.2"
      ]
     },
     "metadata": {},
     "output_type": "display_data"
    }
   ],
   "source": [
    "#Passo 14: selecionando o atributo a ser realocado\n",
    "new_loan_atual <- df_original[4, c('sl_no', 'gender', 'ssc_p', 'ssc_b', 'hsc_p', 'hsc_b', 'hsc_s', 'degree_p', 'degree_t', 'workex', 'etest_p', 'specialisation', 'mba_p', 'salary')]\n",
    "row.names(new_loan_atual) <- NULL\n",
    "new_loan_atual"
   ]
  },
  {
   "cell_type": "code",
   "execution_count": 244,
   "id": "sharing-quarterly",
   "metadata": {},
   "outputs": [
    {
     "name": "stderr",
     "output_type": "stream",
     "text": [
      "Warning message in FUN(X[[i]], ...):\n",
      "\"Numerical 0 probability for all classes with observation 1\""
     ]
    },
    {
     "data": {
      "text/html": [
       "<dl>\n",
       "\t<dt>$class</dt>\n",
       "\t\t<dd>1\n",
       "<details>\n",
       "\t<summary style=display:list-item;cursor:pointer>\n",
       "\t\t<strong>Levels</strong>:\n",
       "\t</summary>\n",
       "\t<ol class=list-inline>\n",
       "\t\t<li>'1'</li>\n",
       "\t\t<li>'2'</li>\n",
       "\t</ol>\n",
       "</details></dd>\n",
       "\t<dt>$posterior</dt>\n",
       "\t\t<dd><table>\n",
       "<thead><tr><th scope=col>1</th><th scope=col>2</th></tr></thead>\n",
       "<tbody>\n",
       "\t<tr><td>0.9987654  </td><td>0.001234566</td></tr>\n",
       "</tbody>\n",
       "</table>\n",
       "</dd>\n",
       "</dl>\n"
      ],
      "text/latex": [
       "\\begin{description}\n",
       "\\item[\\$class] 1\n",
       "\\emph{Levels}: \\begin{enumerate*}\n",
       "\\item '1'\n",
       "\\item '2'\n",
       "\\end{enumerate*}\n",
       "\n",
       "\\item[\\$posterior] \\begin{tabular}{ll}\n",
       " 1 & 2\\\\\n",
       "\\hline\n",
       "\t 0.9987654   & 0.001234566\\\\\n",
       "\\end{tabular}\n",
       "\n",
       "\\end{description}\n"
      ],
      "text/markdown": [
       "$class\n",
       ":   1\n",
       "**Levels**: 1. '1'\n",
       "2. '2'\n",
       "\n",
       "\n",
       "\n",
       "$posterior\n",
       ":   \n",
       "| 1 | 2 |\n",
       "|---|---|\n",
       "| 0.9987654   | 0.001234566 |\n",
       "\n",
       "\n",
       "\n",
       "\n"
      ],
      "text/plain": [
       "$class\n",
       "[1] 1\n",
       "Levels: 1 2\n",
       "\n",
       "$posterior\n",
       "             1           2\n",
       "[1,] 0.9987654 0.001234566\n"
      ]
     },
     "metadata": {},
     "output_type": "display_data"
    }
   ],
   "source": [
    "#Passo 14: Previsão de realocação do indivíduo\n",
    "predict(naive_model_atual, new_loan_atual)"
   ]
  },
  {
   "cell_type": "code",
   "execution_count": 245,
   "id": "absolute-customer",
   "metadata": {},
   "outputs": [
    {
     "name": "stderr",
     "output_type": "stream",
     "text": [
      "Warning message in FUN(X[[i]], ...):\n",
      "\"Numerical 0 probability for all classes with observation 1\"Warning message in FUN(X[[i]], ...):\n",
      "\"Numerical 0 probability for all classes with observation 2\"Warning message in FUN(X[[i]], ...):\n",
      "\"Numerical 0 probability for all classes with observation 3\"Warning message in FUN(X[[i]], ...):\n",
      "\"Numerical 0 probability for all classes with observation 4\"Warning message in FUN(X[[i]], ...):\n",
      "\"Numerical 0 probability for all classes with observation 5\"Warning message in FUN(X[[i]], ...):\n",
      "\"Numerical 0 probability for all classes with observation 6\"Warning message in FUN(X[[i]], ...):\n",
      "\"Numerical 0 probability for all classes with observation 7\"Warning message in FUN(X[[i]], ...):\n",
      "\"Numerical 0 probability for all classes with observation 8\"Warning message in FUN(X[[i]], ...):\n",
      "\"Numerical 0 probability for all classes with observation 9\"Warning message in FUN(X[[i]], ...):\n",
      "\"Numerical 0 probability for all classes with observation 10\"Warning message in FUN(X[[i]], ...):\n",
      "\"Numerical 0 probability for all classes with observation 11\"Warning message in FUN(X[[i]], ...):\n",
      "\"Numerical 0 probability for all classes with observation 12\"Warning message in FUN(X[[i]], ...):\n",
      "\"Numerical 0 probability for all classes with observation 13\"Warning message in FUN(X[[i]], ...):\n",
      "\"Numerical 0 probability for all classes with observation 14\"Warning message in FUN(X[[i]], ...):\n",
      "\"Numerical 0 probability for all classes with observation 15\"Warning message in FUN(X[[i]], ...):\n",
      "\"Numerical 0 probability for all classes with observation 16\"Warning message in FUN(X[[i]], ...):\n",
      "\"Numerical 0 probability for all classes with observation 17\"Warning message in FUN(X[[i]], ...):\n",
      "\"Numerical 0 probability for all classes with observation 18\"Warning message in FUN(X[[i]], ...):\n",
      "\"Numerical 0 probability for all classes with observation 19\"Warning message in FUN(X[[i]], ...):\n",
      "\"Numerical 0 probability for all classes with observation 20\"Warning message in FUN(X[[i]], ...):\n",
      "\"Numerical 0 probability for all classes with observation 21\"Warning message in FUN(X[[i]], ...):\n",
      "\"Numerical 0 probability for all classes with observation 22\"Warning message in FUN(X[[i]], ...):\n",
      "\"Numerical 0 probability for all classes with observation 23\"Warning message in FUN(X[[i]], ...):\n",
      "\"Numerical 0 probability for all classes with observation 24\"Warning message in FUN(X[[i]], ...):\n",
      "\"Numerical 0 probability for all classes with observation 25\"Warning message in FUN(X[[i]], ...):\n",
      "\"Numerical 0 probability for all classes with observation 26\"Warning message in FUN(X[[i]], ...):\n",
      "\"Numerical 0 probability for all classes with observation 27\"Warning message in FUN(X[[i]], ...):\n",
      "\"Numerical 0 probability for all classes with observation 28\"Warning message in FUN(X[[i]], ...):\n",
      "\"Numerical 0 probability for all classes with observation 29\"Warning message in FUN(X[[i]], ...):\n",
      "\"Numerical 0 probability for all classes with observation 30\"Warning message in FUN(X[[i]], ...):\n",
      "\"Numerical 0 probability for all classes with observation 31\"Warning message in FUN(X[[i]], ...):\n",
      "\"Numerical 0 probability for all classes with observation 32\"Warning message in FUN(X[[i]], ...):\n",
      "\"Numerical 0 probability for all classes with observation 33\"Warning message in FUN(X[[i]], ...):\n",
      "\"Numerical 0 probability for all classes with observation 34\"Warning message in FUN(X[[i]], ...):\n",
      "\"Numerical 0 probability for all classes with observation 35\"Warning message in FUN(X[[i]], ...):\n",
      "\"Numerical 0 probability for all classes with observation 36\"Warning message in FUN(X[[i]], ...):\n",
      "\"Numerical 0 probability for all classes with observation 37\"Warning message in FUN(X[[i]], ...):\n",
      "\"Numerical 0 probability for all classes with observation 38\"Warning message in FUN(X[[i]], ...):\n",
      "\"Numerical 0 probability for all classes with observation 39\"Warning message in FUN(X[[i]], ...):\n",
      "\"Numerical 0 probability for all classes with observation 40\"Warning message in FUN(X[[i]], ...):\n",
      "\"Numerical 0 probability for all classes with observation 41\"Warning message in FUN(X[[i]], ...):\n",
      "\"Numerical 0 probability for all classes with observation 42\"Warning message in FUN(X[[i]], ...):\n",
      "\"Numerical 0 probability for all classes with observation 43\"Warning message in FUN(X[[i]], ...):\n",
      "\"Numerical 0 probability for all classes with observation 44\"Warning message in FUN(X[[i]], ...):\n",
      "\"Numerical 0 probability for all classes with observation 45\"Warning message in FUN(X[[i]], ...):\n",
      "\"Numerical 0 probability for all classes with observation 46\"Warning message in FUN(X[[i]], ...):\n",
      "\"Numerical 0 probability for all classes with observation 47\"Warning message in FUN(X[[i]], ...):\n",
      "\"Numerical 0 probability for all classes with observation 48\"Warning message in FUN(X[[i]], ...):\n",
      "\"Numerical 0 probability for all classes with observation 49\"Warning message in FUN(X[[i]], ...):\n",
      "\"Numerical 0 probability for all classes with observation 50\"Warning message in FUN(X[[i]], ...):\n",
      "\"Numerical 0 probability for all classes with observation 51\"Warning message in FUN(X[[i]], ...):\n",
      "\"Numerical 0 probability for all classes with observation 52\"Warning message in FUN(X[[i]], ...):\n",
      "\"Numerical 0 probability for all classes with observation 53\"Warning message in FUN(X[[i]], ...):\n",
      "\"Numerical 0 probability for all classes with observation 54\"Warning message in FUN(X[[i]], ...):\n",
      "\"Numerical 0 probability for all classes with observation 55\"Warning message in FUN(X[[i]], ...):\n",
      "\"Numerical 0 probability for all classes with observation 56\"Warning message in FUN(X[[i]], ...):\n",
      "\"Numerical 0 probability for all classes with observation 57\"Warning message in FUN(X[[i]], ...):\n",
      "\"Numerical 0 probability for all classes with observation 58\"Warning message in FUN(X[[i]], ...):\n",
      "\"Numerical 0 probability for all classes with observation 59\"Warning message in FUN(X[[i]], ...):\n",
      "\"Numerical 0 probability for all classes with observation 60\"Warning message in FUN(X[[i]], ...):\n",
      "\"Numerical 0 probability for all classes with observation 61\"Warning message in FUN(X[[i]], ...):\n",
      "\"Numerical 0 probability for all classes with observation 62\"Warning message in FUN(X[[i]], ...):\n",
      "\"Numerical 0 probability for all classes with observation 63\"Warning message in FUN(X[[i]], ...):\n",
      "\"Numerical 0 probability for all classes with observation 64\"Warning message in FUN(X[[i]], ...):\n",
      "\"Numerical 0 probability for all classes with observation 65\"Warning message in FUN(X[[i]], ...):\n",
      "\"Numerical 0 probability for all classes with observation 66\"Warning message in FUN(X[[i]], ...):\n",
      "\"Numerical 0 probability for all classes with observation 67\"Warning message in FUN(X[[i]], ...):\n",
      "\"Numerical 0 probability for all classes with observation 68\"Warning message in FUN(X[[i]], ...):\n",
      "\"Numerical 0 probability for all classes with observation 69\"Warning message in FUN(X[[i]], ...):\n",
      "\"Numerical 0 probability for all classes with observation 70\"Warning message in FUN(X[[i]], ...):\n",
      "\"Numerical 0 probability for all classes with observation 71\"Warning message in FUN(X[[i]], ...):\n",
      "\"Numerical 0 probability for all classes with observation 72\"Warning message in FUN(X[[i]], ...):\n",
      "\"Numerical 0 probability for all classes with observation 73\"Warning message in FUN(X[[i]], ...):\n",
      "\"Numerical 0 probability for all classes with observation 74\"Warning message in FUN(X[[i]], ...):\n",
      "\"Numerical 0 probability for all classes with observation 75\"Warning message in FUN(X[[i]], ...):\n",
      "\"Numerical 0 probability for all classes with observation 76\"Warning message in FUN(X[[i]], ...):\n",
      "\"Numerical 0 probability for all classes with observation 77\"Warning message in FUN(X[[i]], ...):\n",
      "\"Numerical 0 probability for all classes with observation 78\"Warning message in FUN(X[[i]], ...):\n",
      "\"Numerical 0 probability for all classes with observation 79\"Warning message in FUN(X[[i]], ...):\n",
      "\"Numerical 0 probability for all classes with observation 80\"Warning message in FUN(X[[i]], ...):\n",
      "\"Numerical 0 probability for all classes with observation 81\"Warning message in FUN(X[[i]], ...):\n",
      "\"Numerical 0 probability for all classes with observation 82\"Warning message in FUN(X[[i]], ...):\n",
      "\"Numerical 0 probability for all classes with observation 83\"Warning message in FUN(X[[i]], ...):\n"
     ]
    },
    {
     "name": "stderr",
     "output_type": "stream",
     "text": [
      "\"Numerical 0 probability for all classes with observation 84\"Warning message in FUN(X[[i]], ...):\n",
      "\"Numerical 0 probability for all classes with observation 85\"Warning message in FUN(X[[i]], ...):\n",
      "\"Numerical 0 probability for all classes with observation 86\"Warning message in FUN(X[[i]], ...):\n",
      "\"Numerical 0 probability for all classes with observation 87\"Warning message in FUN(X[[i]], ...):\n",
      "\"Numerical 0 probability for all classes with observation 88\"Warning message in FUN(X[[i]], ...):\n",
      "\"Numerical 0 probability for all classes with observation 89\"Warning message in FUN(X[[i]], ...):\n",
      "\"Numerical 0 probability for all classes with observation 90\"Warning message in FUN(X[[i]], ...):\n",
      "\"Numerical 0 probability for all classes with observation 91\"Warning message in FUN(X[[i]], ...):\n",
      "\"Numerical 0 probability for all classes with observation 92\"Warning message in FUN(X[[i]], ...):\n",
      "\"Numerical 0 probability for all classes with observation 93\"Warning message in FUN(X[[i]], ...):\n",
      "\"Numerical 0 probability for all classes with observation 94\"Warning message in FUN(X[[i]], ...):\n",
      "\"Numerical 0 probability for all classes with observation 95\"Warning message in FUN(X[[i]], ...):\n",
      "\"Numerical 0 probability for all classes with observation 96\"Warning message in FUN(X[[i]], ...):\n",
      "\"Numerical 0 probability for all classes with observation 97\"Warning message in FUN(X[[i]], ...):\n",
      "\"Numerical 0 probability for all classes with observation 98\"Warning message in FUN(X[[i]], ...):\n",
      "\"Numerical 0 probability for all classes with observation 99\"Warning message in FUN(X[[i]], ...):\n",
      "\"Numerical 0 probability for all classes with observation 100\"Warning message in FUN(X[[i]], ...):\n",
      "\"Numerical 0 probability for all classes with observation 101\"Warning message in FUN(X[[i]], ...):\n",
      "\"Numerical 0 probability for all classes with observation 102\"Warning message in FUN(X[[i]], ...):\n",
      "\"Numerical 0 probability for all classes with observation 103\"Warning message in FUN(X[[i]], ...):\n",
      "\"Numerical 0 probability for all classes with observation 104\"Warning message in FUN(X[[i]], ...):\n",
      "\"Numerical 0 probability for all classes with observation 105\"Warning message in FUN(X[[i]], ...):\n",
      "\"Numerical 0 probability for all classes with observation 106\"Warning message in FUN(X[[i]], ...):\n",
      "\"Numerical 0 probability for all classes with observation 107\"Warning message in FUN(X[[i]], ...):\n",
      "\"Numerical 0 probability for all classes with observation 108\"Warning message in FUN(X[[i]], ...):\n",
      "\"Numerical 0 probability for all classes with observation 109\"Warning message in FUN(X[[i]], ...):\n",
      "\"Numerical 0 probability for all classes with observation 110\"Warning message in FUN(X[[i]], ...):\n",
      "\"Numerical 0 probability for all classes with observation 111\"Warning message in FUN(X[[i]], ...):\n",
      "\"Numerical 0 probability for all classes with observation 112\"Warning message in FUN(X[[i]], ...):\n",
      "\"Numerical 0 probability for all classes with observation 113\"Warning message in FUN(X[[i]], ...):\n",
      "\"Numerical 0 probability for all classes with observation 114\"Warning message in FUN(X[[i]], ...):\n",
      "\"Numerical 0 probability for all classes with observation 115\"Warning message in FUN(X[[i]], ...):\n",
      "\"Numerical 0 probability for all classes with observation 116\"Warning message in FUN(X[[i]], ...):\n",
      "\"Numerical 0 probability for all classes with observation 117\"Warning message in FUN(X[[i]], ...):\n",
      "\"Numerical 0 probability for all classes with observation 118\"Warning message in FUN(X[[i]], ...):\n",
      "\"Numerical 0 probability for all classes with observation 119\"Warning message in FUN(X[[i]], ...):\n",
      "\"Numerical 0 probability for all classes with observation 120\"Warning message in FUN(X[[i]], ...):\n",
      "\"Numerical 0 probability for all classes with observation 121\"Warning message in FUN(X[[i]], ...):\n",
      "\"Numerical 0 probability for all classes with observation 122\"Warning message in FUN(X[[i]], ...):\n",
      "\"Numerical 0 probability for all classes with observation 123\"Warning message in FUN(X[[i]], ...):\n",
      "\"Numerical 0 probability for all classes with observation 124\"Warning message in FUN(X[[i]], ...):\n",
      "\"Numerical 0 probability for all classes with observation 125\"Warning message in FUN(X[[i]], ...):\n",
      "\"Numerical 0 probability for all classes with observation 126\"Warning message in FUN(X[[i]], ...):\n",
      "\"Numerical 0 probability for all classes with observation 127\"Warning message in FUN(X[[i]], ...):\n",
      "\"Numerical 0 probability for all classes with observation 128\"Warning message in FUN(X[[i]], ...):\n",
      "\"Numerical 0 probability for all classes with observation 129\"Warning message in FUN(X[[i]], ...):\n",
      "\"Numerical 0 probability for all classes with observation 130\"Warning message in FUN(X[[i]], ...):\n",
      "\"Numerical 0 probability for all classes with observation 131\"Warning message in FUN(X[[i]], ...):\n",
      "\"Numerical 0 probability for all classes with observation 132\"Warning message in FUN(X[[i]], ...):\n",
      "\"Numerical 0 probability for all classes with observation 133\"Warning message in FUN(X[[i]], ...):\n",
      "\"Numerical 0 probability for all classes with observation 134\"Warning message in FUN(X[[i]], ...):\n",
      "\"Numerical 0 probability for all classes with observation 135\"Warning message in FUN(X[[i]], ...):\n",
      "\"Numerical 0 probability for all classes with observation 136\"Warning message in FUN(X[[i]], ...):\n",
      "\"Numerical 0 probability for all classes with observation 137\"Warning message in FUN(X[[i]], ...):\n",
      "\"Numerical 0 probability for all classes with observation 138\"Warning message in FUN(X[[i]], ...):\n",
      "\"Numerical 0 probability for all classes with observation 139\"Warning message in FUN(X[[i]], ...):\n",
      "\"Numerical 0 probability for all classes with observation 140\"Warning message in FUN(X[[i]], ...):\n",
      "\"Numerical 0 probability for all classes with observation 141\"Warning message in FUN(X[[i]], ...):\n",
      "\"Numerical 0 probability for all classes with observation 142\"Warning message in FUN(X[[i]], ...):\n",
      "\"Numerical 0 probability for all classes with observation 143\"Warning message in FUN(X[[i]], ...):\n",
      "\"Numerical 0 probability for all classes with observation 144\"Warning message in FUN(X[[i]], ...):\n",
      "\"Numerical 0 probability for all classes with observation 145\"Warning message in FUN(X[[i]], ...):\n",
      "\"Numerical 0 probability for all classes with observation 146\"Warning message in FUN(X[[i]], ...):\n",
      "\"Numerical 0 probability for all classes with observation 147\"Warning message in FUN(X[[i]], ...):\n",
      "\"Numerical 0 probability for all classes with observation 148\"Warning message in FUN(X[[i]], ...):\n",
      "\"Numerical 0 probability for all classes with observation 149\"Warning message in FUN(X[[i]], ...):\n",
      "\"Numerical 0 probability for all classes with observation 150\"Warning message in FUN(X[[i]], ...):\n",
      "\"Numerical 0 probability for all classes with observation 151\"Warning message in FUN(X[[i]], ...):\n",
      "\"Numerical 0 probability for all classes with observation 152\"Warning message in FUN(X[[i]], ...):\n",
      "\"Numerical 0 probability for all classes with observation 153\"Warning message in FUN(X[[i]], ...):\n",
      "\"Numerical 0 probability for all classes with observation 154\"Warning message in FUN(X[[i]], ...):\n",
      "\"Numerical 0 probability for all classes with observation 155\"Warning message in FUN(X[[i]], ...):\n",
      "\"Numerical 0 probability for all classes with observation 156\"Warning message in FUN(X[[i]], ...):\n",
      "\"Numerical 0 probability for all classes with observation 157\"Warning message in FUN(X[[i]], ...):\n",
      "\"Numerical 0 probability for all classes with observation 158\"Warning message in FUN(X[[i]], ...):\n",
      "\"Numerical 0 probability for all classes with observation 159\"Warning message in FUN(X[[i]], ...):\n",
      "\"Numerical 0 probability for all classes with observation 160\"Warning message in FUN(X[[i]], ...):\n",
      "\"Numerical 0 probability for all classes with observation 161\"Warning message in FUN(X[[i]], ...):\n",
      "\"Numerical 0 probability for all classes with observation 162\"Warning message in FUN(X[[i]], ...):\n",
      "\"Numerical 0 probability for all classes with observation 163\"Warning message in FUN(X[[i]], ...):\n",
      "\"Numerical 0 probability for all classes with observation 164\"Warning message in FUN(X[[i]], ...):\n",
      "\"Numerical 0 probability for all classes with observation 165\"Warning message in FUN(X[[i]], ...):\n",
      "\"Numerical 0 probability for all classes with observation 166\"Warning message in FUN(X[[i]], ...):\n"
     ]
    },
    {
     "name": "stderr",
     "output_type": "stream",
     "text": [
      "\"Numerical 0 probability for all classes with observation 167\"Warning message in FUN(X[[i]], ...):\n",
      "\"Numerical 0 probability for all classes with observation 168\"Warning message in FUN(X[[i]], ...):\n",
      "\"Numerical 0 probability for all classes with observation 169\"Warning message in FUN(X[[i]], ...):\n",
      "\"Numerical 0 probability for all classes with observation 170\"Warning message in FUN(X[[i]], ...):\n",
      "\"Numerical 0 probability for all classes with observation 171\"Warning message in FUN(X[[i]], ...):\n",
      "\"Numerical 0 probability for all classes with observation 172\"Warning message in FUN(X[[i]], ...):\n",
      "\"Numerical 0 probability for all classes with observation 173\"Warning message in FUN(X[[i]], ...):\n",
      "\"Numerical 0 probability for all classes with observation 174\"Warning message in FUN(X[[i]], ...):\n",
      "\"Numerical 0 probability for all classes with observation 175\"Warning message in FUN(X[[i]], ...):\n",
      "\"Numerical 0 probability for all classes with observation 176\"Warning message in FUN(X[[i]], ...):\n",
      "\"Numerical 0 probability for all classes with observation 177\"Warning message in FUN(X[[i]], ...):\n",
      "\"Numerical 0 probability for all classes with observation 178\"Warning message in FUN(X[[i]], ...):\n",
      "\"Numerical 0 probability for all classes with observation 179\"Warning message in FUN(X[[i]], ...):\n",
      "\"Numerical 0 probability for all classes with observation 180\"Warning message in FUN(X[[i]], ...):\n",
      "\"Numerical 0 probability for all classes with observation 181\"Warning message in FUN(X[[i]], ...):\n",
      "\"Numerical 0 probability for all classes with observation 182\"Warning message in FUN(X[[i]], ...):\n",
      "\"Numerical 0 probability for all classes with observation 183\"Warning message in FUN(X[[i]], ...):\n",
      "\"Numerical 0 probability for all classes with observation 184\"Warning message in FUN(X[[i]], ...):\n",
      "\"Numerical 0 probability for all classes with observation 185\"Warning message in FUN(X[[i]], ...):\n",
      "\"Numerical 0 probability for all classes with observation 186\"Warning message in FUN(X[[i]], ...):\n",
      "\"Numerical 0 probability for all classes with observation 187\"Warning message in FUN(X[[i]], ...):\n",
      "\"Numerical 0 probability for all classes with observation 188\"Warning message in FUN(X[[i]], ...):\n",
      "\"Numerical 0 probability for all classes with observation 189\"Warning message in FUN(X[[i]], ...):\n",
      "\"Numerical 0 probability for all classes with observation 190\"Warning message in FUN(X[[i]], ...):\n",
      "\"Numerical 0 probability for all classes with observation 191\"Warning message in FUN(X[[i]], ...):\n",
      "\"Numerical 0 probability for all classes with observation 192\"Warning message in FUN(X[[i]], ...):\n",
      "\"Numerical 0 probability for all classes with observation 193\"Warning message in FUN(X[[i]], ...):\n",
      "\"Numerical 0 probability for all classes with observation 194\"Warning message in FUN(X[[i]], ...):\n",
      "\"Numerical 0 probability for all classes with observation 195\"Warning message in FUN(X[[i]], ...):\n",
      "\"Numerical 0 probability for all classes with observation 196\"Warning message in FUN(X[[i]], ...):\n",
      "\"Numerical 0 probability for all classes with observation 197\"Warning message in FUN(X[[i]], ...):\n",
      "\"Numerical 0 probability for all classes with observation 198\"Warning message in FUN(X[[i]], ...):\n",
      "\"Numerical 0 probability for all classes with observation 199\"Warning message in FUN(X[[i]], ...):\n",
      "\"Numerical 0 probability for all classes with observation 200\"Warning message in FUN(X[[i]], ...):\n",
      "\"Numerical 0 probability for all classes with observation 201\"Warning message in FUN(X[[i]], ...):\n",
      "\"Numerical 0 probability for all classes with observation 202\"Warning message in FUN(X[[i]], ...):\n",
      "\"Numerical 0 probability for all classes with observation 203\"Warning message in FUN(X[[i]], ...):\n",
      "\"Numerical 0 probability for all classes with observation 204\"Warning message in FUN(X[[i]], ...):\n",
      "\"Numerical 0 probability for all classes with observation 205\"Warning message in FUN(X[[i]], ...):\n",
      "\"Numerical 0 probability for all classes with observation 206\"Warning message in FUN(X[[i]], ...):\n",
      "\"Numerical 0 probability for all classes with observation 207\"Warning message in FUN(X[[i]], ...):\n",
      "\"Numerical 0 probability for all classes with observation 208\"Warning message in FUN(X[[i]], ...):\n",
      "\"Numerical 0 probability for all classes with observation 209\"Warning message in FUN(X[[i]], ...):\n",
      "\"Numerical 0 probability for all classes with observation 210\"Warning message in FUN(X[[i]], ...):\n",
      "\"Numerical 0 probability for all classes with observation 211\"Warning message in FUN(X[[i]], ...):\n",
      "\"Numerical 0 probability for all classes with observation 212\"Warning message in FUN(X[[i]], ...):\n",
      "\"Numerical 0 probability for all classes with observation 213\"Warning message in FUN(X[[i]], ...):\n",
      "\"Numerical 0 probability for all classes with observation 214\"Warning message in FUN(X[[i]], ...):\n",
      "\"Numerical 0 probability for all classes with observation 215\""
     ]
    }
   ],
   "source": [
    "#Passo 14: Previsão para a matriz de confusão\n",
    "pred_atual <- predict(naive_model_atual, newdata=df_original)"
   ]
  },
  {
   "cell_type": "code",
   "execution_count": 263,
   "id": "funny-samuel",
   "metadata": {},
   "outputs": [
    {
     "data": {
      "text/html": [
       "<table>\n",
       "<thead><tr><th></th><th scope=col>Yhat = 1</th><th scope=col>Yhat = 0</th></tr></thead>\n",
       "<tbody>\n",
       "\t<tr><th scope=row>Y = 1</th><td> 13</td><td>188</td></tr>\n",
       "\t<tr><th scope=row>Y = 0</th><td>131</td><td>313</td></tr>\n",
       "</tbody>\n",
       "</table>\n"
      ],
      "text/latex": [
       "\\begin{tabular}{r|ll}\n",
       "  & Yhat = 1 & Yhat = 0\\\\\n",
       "\\hline\n",
       "\tY = 1 &  13 & 188\\\\\n",
       "\tY = 0 & 131 & 313\\\\\n",
       "\\end{tabular}\n"
      ],
      "text/markdown": [
       "\n",
       "| <!--/--> | Yhat = 1 | Yhat = 0 |\n",
       "|---|---|---|\n",
       "| Y = 1 |  13 | 188 |\n",
       "| Y = 0 | 131 | 313 |\n",
       "\n"
      ],
      "text/plain": [
       "      Yhat = 1 Yhat = 0\n",
       "Y = 1  13      188     \n",
       "Y = 0 131      313     "
      ]
     },
     "metadata": {},
     "output_type": "display_data"
    },
    {
     "name": "stdout",
     "output_type": "stream",
     "text": [
      "[1] \"Precision:  0.0902777777777778\"\n",
      "[1] \"Recall:  0.0646766169154229\"\n",
      "[1] \"Specificity:  0.704954954954955\"\n"
     ]
    }
   ],
   "source": [
    "#Passo 14\n",
    "\n",
    "# Confusion matrix\n",
    "pred_y <- as.numeric(unlist(pred_atual) > 1)\n",
    "true_y <- as.numeric(df_original$status==1)\n",
    "true_pos <- (true_y==1) & (pred_y==1)\n",
    "true_neg <- (true_y==0) & (pred_y==0)\n",
    "false_pos <- (true_y==0) & (pred_y==1)\n",
    "false_neg <- (true_y==1) & (pred_y==0)\n",
    "conf_mat <- matrix(c(sum(true_pos), sum(false_pos),\n",
    "sum(false_neg), sum(true_neg)), 2, 2)\n",
    "colnames(conf_mat) <- c('Yhat = 1', 'Yhat = 0')\n",
    "rownames(conf_mat) <- c('Y = 1', 'Y = 0')\n",
    "conf_mat\n",
    "\n",
    "print(paste(\"Precision: \", (conf_mat[1, 1] / sum(conf_mat[,1]))))\n",
    "print(paste(\"Recall: \", (conf_mat[1, 1] / sum(conf_mat[1,]))))\n",
    "print(paste(\"Specificity: \", (conf_mat[2, 2] / sum(conf_mat[2,]))))"
   ]
  },
  {
   "cell_type": "markdown",
   "id": "parallel-vegetation",
   "metadata": {},
   "source": [
    "Precisão: Indica que a cada cem realocações é esperado que nove delas esteja correta.\n",
    "\n",
    "Recall: Indica que a cada cem realocações, seis delas estarão realmente corretas."
   ]
  },
  {
   "cell_type": "code",
   "execution_count": 264,
   "id": "built-alpha",
   "metadata": {
    "scrolled": true
   },
   "outputs": [
    {
     "name": "stderr",
     "output_type": "stream",
     "text": [
      "Warning message:\n",
      "\"Removed 430 rows containing missing values (geom_path).\""
     ]
    },
    {
     "data": {
      "image/png": "[encoded data removed]",
      "text/plain": [
       "plot without title"
      ]
     },
     "metadata": {},
     "output_type": "display_data"
    }
   ],
   "source": [
    "#Passo 14: Gráfico ROC\n",
    "\n",
    "library('ggplot2')\n",
    "\n",
    "predd <- as.numeric(unlist(pred_atual))\n",
    "idx <- order(-predd)\n",
    "recall <- cumsum(true_y[idx] == 1) / sum(true_y == 1)\n",
    "specificity <- (sum(true_y == 0) - cumsum(true_y[idx] == 0)) / sum(true_y == 0)\n",
    "roc_df <- data.frame(recall = recall, specificity = specificity)\n",
    "graph <- ggplot(roc_df, aes(x=specificity, y=recall)) +\n",
    " geom_line(color='blue') + \n",
    " scale_x_reverse(expand=c(0, 0)) +\n",
    " scale_y_continuous(expand=c(0, 0)) + \n",
    " geom_line(data=data.frame(x=(0:100) / 100), aes(x=x, y=1-x),\n",
    " linetype='dotted', color='red') +\n",
    " theme_bw() + theme(plot.margin=unit(c(5.5, 10, 5.5, 5.5), \"points\"))\n",
    "graph"
   ]
  },
  {
   "cell_type": "markdown",
   "id": "bored-warren",
   "metadata": {},
   "source": [
    "De acordo com esse gráfico ROC que é uma forma de avaliar a qualidade do modelo. Vejo que meu modelo de previsão, baseada na realocação \"Placed\", não possui uma qualidade boa, pois, sua curva está mais próxima do canto inferior direito, ou seja, do zero. "
   ]
  },
  {
   "cell_type": "code",
   "execution_count": 265,
   "id": "sublime-consideration",
   "metadata": {
    "scrolled": true
   },
   "outputs": [
    {
     "data": {
      "image/png": "[encoded data removed]",
      "text/plain": [
       "plot without title"
      ]
     },
     "metadata": {},
     "output_type": "display_data"
    }
   ],
   "source": [
    "#Passo 14: Gráfico AUC\n",
    "\n",
    "graph <- ggplot(roc_df, aes(specificity)) +\n",
    " geom_ribbon(aes(ymin=0, ymax=recall), fill='blue', alpha=.3) +\n",
    " scale_x_reverse(expand=c(0, 0)) +\n",
    " scale_y_continuous(expand=c(0, 0)) +\n",
    " labs(y='recall') +\n",
    " theme_bw() + theme(plot.margin=unit(c(5.5, 10, 5.5, 5.5), \"points\"))\n",
    "graph"
   ]
  },
  {
   "cell_type": "code",
   "execution_count": null,
   "id": "headed-pocket",
   "metadata": {},
   "outputs": [],
   "source": []
  }
 ],
 "metadata": {
  "kernelspec": {
   "display_name": "R",
   "language": "R",
   "name": "ir"
  },
  "language_info": {
   "codemirror_mode": "r",
   "file_extension": ".r",
   "mimetype": "text/x-r-source",
   "name": "R",
   "pygments_lexer": "r",
   "version": "3.6.1"
  }
 },
 "nbformat": 4,
 "nbformat_minor": 5
}
