{
 "cells": [
  {
   "cell_type": "code",
   "execution_count": 1,
   "id": "gorgeous-internship",
   "metadata": {},
   "outputs": [],
   "source": [
    "PSDS_PATH <- 'C://Users//ADM//OneDrive//FAESA - Sistemas de Informação//5ª Período//Análise de Dados Aplicada a Computação//Avaliação C2'\n",
    "DataSet <- read.csv(file.path(PSDS_PATH, 'Placement_Data_Full_Class.csv'), header=TRUE, sep=\",\")"
   ]
  },
  {
   "cell_type": "code",
   "execution_count": 2,
   "id": "failing-carnival",
   "metadata": {},
   "outputs": [],
   "source": [
    "df_original <- data.frame(DataSet)"
   ]
  },
  {
   "cell_type": "code",
   "execution_count": 3,
   "id": "horizontal-hopkins",
   "metadata": {},
   "outputs": [
    {
     "data": {
      "text/html": [
       "<table>\n",
       "<thead><tr><th scope=col>sl_no</th><th scope=col>gender</th><th scope=col>ssc_p</th><th scope=col>ssc_b</th><th scope=col>hsc_p</th><th scope=col>hsc_b</th><th scope=col>hsc_s</th><th scope=col>degree_p</th><th scope=col>degree_t</th><th scope=col>workex</th><th scope=col>etest_p</th><th scope=col>specialisation</th><th scope=col>mba_p</th><th scope=col>status</th><th scope=col>salary</th></tr></thead>\n",
       "<tbody>\n",
       "\t<tr><td>1                                                 </td><td>M                                                 </td><td>67.00                                             </td><td>Others                                            </td><td>91.00                                             </td><td>Others                                            </td><td>Commerce                                          </td><td>58.00                                             </td><td>Sci&amp;Tech                                      </td><td>No                                                </td><td>55.0                                              </td><td>Mkt&amp;HR                                        </td><td>58.80                                             </td><td><span style=white-space:pre-wrap>Placed    </span></td><td>270000                                            </td></tr>\n",
       "\t<tr><td>2                                                 </td><td>M                                                 </td><td>79.33                                             </td><td>Central                                           </td><td>78.33                                             </td><td>Others                                            </td><td>Science                                           </td><td>77.48                                             </td><td>Sci&amp;Tech                                      </td><td>Yes                                               </td><td>86.5                                              </td><td>Mkt&amp;Fin                                       </td><td>66.28                                             </td><td><span style=white-space:pre-wrap>Placed    </span></td><td>200000                                            </td></tr>\n",
       "\t<tr><td>3                                                 </td><td>M                                                 </td><td>65.00                                             </td><td>Central                                           </td><td>68.00                                             </td><td>Central                                           </td><td><span style=white-space:pre-wrap>Arts    </span>  </td><td>64.00                                             </td><td>Comm&amp;Mgmt                                     </td><td>No                                                </td><td>75.0                                              </td><td>Mkt&amp;Fin                                       </td><td>57.80                                             </td><td><span style=white-space:pre-wrap>Placed    </span></td><td>250000                                            </td></tr>\n",
       "\t<tr><td>4                                             </td><td>M                                             </td><td>56.00                                         </td><td>Central                                       </td><td>52.00                                         </td><td>Central                                       </td><td>Science                                       </td><td>52.00                                         </td><td>Sci&amp;Tech                                  </td><td>No                                            </td><td>66.0                                          </td><td>Mkt&amp;HR                                    </td><td>59.43                                         </td><td>Not Placed                                    </td><td><span style=white-space:pre-wrap>    NA</span></td></tr>\n",
       "\t<tr><td>5                                                 </td><td>M                                                 </td><td>85.80                                             </td><td>Central                                           </td><td>73.60                                             </td><td>Central                                           </td><td>Commerce                                          </td><td>73.30                                             </td><td>Comm&amp;Mgmt                                     </td><td>No                                                </td><td>96.8                                              </td><td>Mkt&amp;Fin                                       </td><td>55.50                                             </td><td><span style=white-space:pre-wrap>Placed    </span></td><td>425000                                            </td></tr>\n",
       "\t<tr><td>6                                             </td><td>M                                             </td><td>55.00                                         </td><td>Others                                        </td><td>49.80                                         </td><td>Others                                        </td><td>Science                                       </td><td>67.25                                         </td><td>Sci&amp;Tech                                  </td><td>Yes                                           </td><td>55.0                                          </td><td>Mkt&amp;Fin                                   </td><td>51.58                                         </td><td>Not Placed                                    </td><td><span style=white-space:pre-wrap>    NA</span></td></tr>\n",
       "</tbody>\n",
       "</table>\n"
      ],
      "text/latex": [
       "\\begin{tabular}{r|lllllllllllllll}\n",
       " sl\\_no & gender & ssc\\_p & ssc\\_b & hsc\\_p & hsc\\_b & hsc\\_s & degree\\_p & degree\\_t & workex & etest\\_p & specialisation & mba\\_p & status & salary\\\\\n",
       "\\hline\n",
       "\t 1           & M           & 67.00       & Others      & 91.00       & Others      & Commerce    & 58.00       & Sci\\&Tech  & No          & 55.0        & Mkt\\&HR    & 58.80       & Placed      & 270000     \\\\\n",
       "\t 2           & M           & 79.33       & Central     & 78.33       & Others      & Science     & 77.48       & Sci\\&Tech  & Yes         & 86.5        & Mkt\\&Fin   & 66.28       & Placed      & 200000     \\\\\n",
       "\t 3           & M           & 65.00       & Central     & 68.00       & Central     & Arts        & 64.00       & Comm\\&Mgmt & No          & 75.0        & Mkt\\&Fin   & 57.80       & Placed      & 250000     \\\\\n",
       "\t 4           & M           & 56.00       & Central     & 52.00       & Central     & Science     & 52.00       & Sci\\&Tech  & No          & 66.0        & Mkt\\&HR    & 59.43       & Not Placed  &     NA     \\\\\n",
       "\t 5           & M           & 85.80       & Central     & 73.60       & Central     & Commerce    & 73.30       & Comm\\&Mgmt & No          & 96.8        & Mkt\\&Fin   & 55.50       & Placed      & 425000     \\\\\n",
       "\t 6           & M           & 55.00       & Others      & 49.80       & Others      & Science     & 67.25       & Sci\\&Tech  & Yes         & 55.0        & Mkt\\&Fin   & 51.58       & Not Placed  &     NA     \\\\\n",
       "\\end{tabular}\n"
      ],
      "text/markdown": [
       "\n",
       "| sl_no | gender | ssc_p | ssc_b | hsc_p | hsc_b | hsc_s | degree_p | degree_t | workex | etest_p | specialisation | mba_p | status | salary |\n",
       "|---|---|---|---|---|---|---|---|---|---|---|---|---|---|---|\n",
       "| 1          | M          | 67.00      | Others     | 91.00      | Others     | Commerce   | 58.00      | Sci&Tech   | No         | 55.0       | Mkt&HR     | 58.80      | Placed     | 270000     |\n",
       "| 2          | M          | 79.33      | Central    | 78.33      | Others     | Science    | 77.48      | Sci&Tech   | Yes        | 86.5       | Mkt&Fin    | 66.28      | Placed     | 200000     |\n",
       "| 3          | M          | 65.00      | Central    | 68.00      | Central    | Arts       | 64.00      | Comm&Mgmt  | No         | 75.0       | Mkt&Fin    | 57.80      | Placed     | 250000     |\n",
       "| 4          | M          | 56.00      | Central    | 52.00      | Central    | Science    | 52.00      | Sci&Tech   | No         | 66.0       | Mkt&HR     | 59.43      | Not Placed |     NA     |\n",
       "| 5          | M          | 85.80      | Central    | 73.60      | Central    | Commerce   | 73.30      | Comm&Mgmt  | No         | 96.8       | Mkt&Fin    | 55.50      | Placed     | 425000     |\n",
       "| 6          | M          | 55.00      | Others     | 49.80      | Others     | Science    | 67.25      | Sci&Tech   | Yes        | 55.0       | Mkt&Fin    | 51.58      | Not Placed |     NA     |\n",
       "\n"
      ],
      "text/plain": [
       "  sl_no gender ssc_p ssc_b   hsc_p hsc_b   hsc_s    degree_p degree_t  workex\n",
       "1 1     M      67.00 Others  91.00 Others  Commerce 58.00    Sci&Tech  No    \n",
       "2 2     M      79.33 Central 78.33 Others  Science  77.48    Sci&Tech  Yes   \n",
       "3 3     M      65.00 Central 68.00 Central Arts     64.00    Comm&Mgmt No    \n",
       "4 4     M      56.00 Central 52.00 Central Science  52.00    Sci&Tech  No    \n",
       "5 5     M      85.80 Central 73.60 Central Commerce 73.30    Comm&Mgmt No    \n",
       "6 6     M      55.00 Others  49.80 Others  Science  67.25    Sci&Tech  Yes   \n",
       "  etest_p specialisation mba_p status     salary\n",
       "1 55.0    Mkt&HR         58.80 Placed     270000\n",
       "2 86.5    Mkt&Fin        66.28 Placed     200000\n",
       "3 75.0    Mkt&Fin        57.80 Placed     250000\n",
       "4 66.0    Mkt&HR         59.43 Not Placed     NA\n",
       "5 96.8    Mkt&Fin        55.50 Placed     425000\n",
       "6 55.0    Mkt&Fin        51.58 Not Placed     NA"
      ]
     },
     "metadata": {},
     "output_type": "display_data"
    }
   ],
   "source": [
    "head(df_original)"
   ]
  },
  {
   "cell_type": "code",
   "execution_count": 4,
   "id": "ignored-camping",
   "metadata": {},
   "outputs": [],
   "source": [
    "df_no_salary <- data.frame(df_original)"
   ]
  },
  {
   "cell_type": "code",
   "execution_count": 5,
   "id": "strategic-display",
   "metadata": {},
   "outputs": [
    {
     "data": {
      "text/html": [
       "<table>\n",
       "<thead><tr><th scope=col>sl_no</th><th scope=col>gender</th><th scope=col>ssc_p</th><th scope=col>ssc_b</th><th scope=col>hsc_p</th><th scope=col>hsc_b</th><th scope=col>hsc_s</th><th scope=col>degree_p</th><th scope=col>degree_t</th><th scope=col>workex</th><th scope=col>etest_p</th><th scope=col>specialisation</th><th scope=col>mba_p</th><th scope=col>status</th></tr></thead>\n",
       "<tbody>\n",
       "\t<tr><td>1                                                 </td><td>M                                                 </td><td>67.00                                             </td><td>Others                                            </td><td>91.00                                             </td><td>Others                                            </td><td>Commerce                                          </td><td>58.00                                             </td><td>Sci&amp;Tech                                      </td><td>No                                                </td><td>55.0                                              </td><td>Mkt&amp;HR                                        </td><td>58.80                                             </td><td><span style=white-space:pre-wrap>Placed    </span></td></tr>\n",
       "\t<tr><td>2                                                 </td><td>M                                                 </td><td>79.33                                             </td><td>Central                                           </td><td>78.33                                             </td><td>Others                                            </td><td>Science                                           </td><td>77.48                                             </td><td>Sci&amp;Tech                                      </td><td>Yes                                               </td><td>86.5                                              </td><td>Mkt&amp;Fin                                       </td><td>66.28                                             </td><td><span style=white-space:pre-wrap>Placed    </span></td></tr>\n",
       "\t<tr><td>3                                                 </td><td>M                                                 </td><td>65.00                                             </td><td>Central                                           </td><td>68.00                                             </td><td>Central                                           </td><td><span style=white-space:pre-wrap>Arts    </span>  </td><td>64.00                                             </td><td>Comm&amp;Mgmt                                     </td><td>No                                                </td><td>75.0                                              </td><td>Mkt&amp;Fin                                       </td><td>57.80                                             </td><td><span style=white-space:pre-wrap>Placed    </span></td></tr>\n",
       "\t<tr><td>4            </td><td>M            </td><td>56.00        </td><td>Central      </td><td>52.00        </td><td>Central      </td><td>Science      </td><td>52.00        </td><td>Sci&amp;Tech </td><td>No           </td><td>66.0         </td><td>Mkt&amp;HR   </td><td>59.43        </td><td>Not Placed   </td></tr>\n",
       "\t<tr><td>5                                                 </td><td>M                                                 </td><td>85.80                                             </td><td>Central                                           </td><td>73.60                                             </td><td>Central                                           </td><td>Commerce                                          </td><td>73.30                                             </td><td>Comm&amp;Mgmt                                     </td><td>No                                                </td><td>96.8                                              </td><td>Mkt&amp;Fin                                       </td><td>55.50                                             </td><td><span style=white-space:pre-wrap>Placed    </span></td></tr>\n",
       "\t<tr><td>6            </td><td>M            </td><td>55.00        </td><td>Others       </td><td>49.80        </td><td>Others       </td><td>Science      </td><td>67.25        </td><td>Sci&amp;Tech </td><td>Yes          </td><td>55.0         </td><td>Mkt&amp;Fin  </td><td>51.58        </td><td>Not Placed   </td></tr>\n",
       "</tbody>\n",
       "</table>\n"
      ],
      "text/latex": [
       "\\begin{tabular}{r|llllllllllllll}\n",
       " sl\\_no & gender & ssc\\_p & ssc\\_b & hsc\\_p & hsc\\_b & hsc\\_s & degree\\_p & degree\\_t & workex & etest\\_p & specialisation & mba\\_p & status\\\\\n",
       "\\hline\n",
       "\t 1           & M           & 67.00       & Others      & 91.00       & Others      & Commerce    & 58.00       & Sci\\&Tech  & No          & 55.0        & Mkt\\&HR    & 58.80       & Placed     \\\\\n",
       "\t 2           & M           & 79.33       & Central     & 78.33       & Others      & Science     & 77.48       & Sci\\&Tech  & Yes         & 86.5        & Mkt\\&Fin   & 66.28       & Placed     \\\\\n",
       "\t 3           & M           & 65.00       & Central     & 68.00       & Central     & Arts        & 64.00       & Comm\\&Mgmt & No          & 75.0        & Mkt\\&Fin   & 57.80       & Placed     \\\\\n",
       "\t 4           & M           & 56.00       & Central     & 52.00       & Central     & Science     & 52.00       & Sci\\&Tech  & No          & 66.0        & Mkt\\&HR    & 59.43       & Not Placed \\\\\n",
       "\t 5           & M           & 85.80       & Central     & 73.60       & Central     & Commerce    & 73.30       & Comm\\&Mgmt & No          & 96.8        & Mkt\\&Fin   & 55.50       & Placed     \\\\\n",
       "\t 6           & M           & 55.00       & Others      & 49.80       & Others      & Science     & 67.25       & Sci\\&Tech  & Yes         & 55.0        & Mkt\\&Fin   & 51.58       & Not Placed \\\\\n",
       "\\end{tabular}\n"
      ],
      "text/markdown": [
       "\n",
       "| sl_no | gender | ssc_p | ssc_b | hsc_p | hsc_b | hsc_s | degree_p | degree_t | workex | etest_p | specialisation | mba_p | status |\n",
       "|---|---|---|---|---|---|---|---|---|---|---|---|---|---|\n",
       "| 1          | M          | 67.00      | Others     | 91.00      | Others     | Commerce   | 58.00      | Sci&Tech   | No         | 55.0       | Mkt&HR     | 58.80      | Placed     |\n",
       "| 2          | M          | 79.33      | Central    | 78.33      | Others     | Science    | 77.48      | Sci&Tech   | Yes        | 86.5       | Mkt&Fin    | 66.28      | Placed     |\n",
       "| 3          | M          | 65.00      | Central    | 68.00      | Central    | Arts       | 64.00      | Comm&Mgmt  | No         | 75.0       | Mkt&Fin    | 57.80      | Placed     |\n",
       "| 4          | M          | 56.00      | Central    | 52.00      | Central    | Science    | 52.00      | Sci&Tech   | No         | 66.0       | Mkt&HR     | 59.43      | Not Placed |\n",
       "| 5          | M          | 85.80      | Central    | 73.60      | Central    | Commerce   | 73.30      | Comm&Mgmt  | No         | 96.8       | Mkt&Fin    | 55.50      | Placed     |\n",
       "| 6          | M          | 55.00      | Others     | 49.80      | Others     | Science    | 67.25      | Sci&Tech   | Yes        | 55.0       | Mkt&Fin    | 51.58      | Not Placed |\n",
       "\n"
      ],
      "text/plain": [
       "  sl_no gender ssc_p ssc_b   hsc_p hsc_b   hsc_s    degree_p degree_t  workex\n",
       "1 1     M      67.00 Others  91.00 Others  Commerce 58.00    Sci&Tech  No    \n",
       "2 2     M      79.33 Central 78.33 Others  Science  77.48    Sci&Tech  Yes   \n",
       "3 3     M      65.00 Central 68.00 Central Arts     64.00    Comm&Mgmt No    \n",
       "4 4     M      56.00 Central 52.00 Central Science  52.00    Sci&Tech  No    \n",
       "5 5     M      85.80 Central 73.60 Central Commerce 73.30    Comm&Mgmt No    \n",
       "6 6     M      55.00 Others  49.80 Others  Science  67.25    Sci&Tech  Yes   \n",
       "  etest_p specialisation mba_p status    \n",
       "1 55.0    Mkt&HR         58.80 Placed    \n",
       "2 86.5    Mkt&Fin        66.28 Placed    \n",
       "3 75.0    Mkt&Fin        57.80 Placed    \n",
       "4 66.0    Mkt&HR         59.43 Not Placed\n",
       "5 96.8    Mkt&Fin        55.50 Placed    \n",
       "6 55.0    Mkt&Fin        51.58 Not Placed"
      ]
     },
     "metadata": {},
     "output_type": "display_data"
    }
   ],
   "source": [
    "df_no_salary$salary <- NULL\n",
    "head(df_no_salary)"
   ]
  },
  {
   "cell_type": "code",
   "execution_count": 42,
   "id": "seasonal-click",
   "metadata": {
    "scrolled": false
   },
   "outputs": [
    {
     "data": {
      "image/png": "[encoded data removed]",
      "text/plain": [
       "plot without title"
      ]
     },
     "metadata": {},
     "output_type": "display_data"
    }
   ],
   "source": [
    "barplot(height=c(sum(df_original[df_original$gender == 'F', ]$degree_p), \n",
    "                 sum(df_original[df_original$gender == 'M', ]$degree_p))/100,\n",
    "        ylab = \"Porcentagem de Grau\",\n",
    "        names=c('Feminino', 'Masculino'))"
   ]
  },
  {
   "cell_type": "markdown",
   "id": "presidential-equation",
   "metadata": {},
   "source": [
    "Através deste gráfico podemos ver que o gênero feminino possui uma porcentagem de grau(degree_p), de mais ou menos, 45% menor que o gênero masculino.\n"
   ]
  },
  {
   "cell_type": "code",
   "execution_count": 41,
   "id": "alternative-customer",
   "metadata": {},
   "outputs": [
    {
     "data": {
      "image/png": "[encoded data removed]",
      "text/plain": [
       "plot without title"
      ]
     },
     "metadata": {},
     "output_type": "display_data"
    }
   ],
   "source": [
    "barplot(height=c(sum(df_original[df_original$workex == 'No', ]$mba_p), \n",
    "                 sum(df_original[df_original$workex == 'Yes', ]$mba_p))/100,\n",
    "        ylab = \"Possuem Pós-graduação\",\n",
    "        names=c('Sem XP', 'Com XP'))"
   ]
  },
  {
   "cell_type": "markdown",
   "id": "existing-stylus",
   "metadata": {},
   "source": [
    "Analisando esse gráfico identificamos que a maioria das pessoas que possuem a pós-graduação(mba_p) não possuem experiência de trabalho. "
   ]
  },
  {
   "cell_type": "code",
   "execution_count": 43,
   "id": "strong-advancement",
   "metadata": {},
   "outputs": [
    {
     "name": "stdout",
     "output_type": "stream",
     "text": [
      "[1] \"Mkt&HR\"\n"
     ]
    },
    {
     "data": {
      "text/html": [
       "<dl class=dl-horizontal>\n",
       "\t<dt>5%</dt>\n",
       "\t\t<dd>17.8</dd>\n",
       "\t<dt>25%</dt>\n",
       "\t\t<dd>53.5</dd>\n",
       "\t<dt>50%</dt>\n",
       "\t\t<dd>112</dd>\n",
       "\t<dt>75%</dt>\n",
       "\t\t<dd>168</dd>\n",
       "</dl>\n"
      ],
      "text/latex": [
       "\\begin{description*}\n",
       "\\item[5\\textbackslash{}\\%] 17.8\n",
       "\\item[25\\textbackslash{}\\%] 53.5\n",
       "\\item[50\\textbackslash{}\\%] 112\n",
       "\\item[75\\textbackslash{}\\%] 168\n",
       "\\end{description*}\n"
      ],
      "text/markdown": [
       "5%\n",
       ":   17.825%\n",
       ":   53.550%\n",
       ":   11275%\n",
       ":   168\n",
       "\n"
      ],
      "text/plain": [
       "   5%   25%   50%   75% \n",
       " 17.8  53.5 112.0 168.0 "
      ]
     },
     "metadata": {},
     "output_type": "display_data"
    },
    {
     "name": "stdout",
     "output_type": "stream",
     "text": [
      "[1] \"Mkt&Fin\"\n"
     ]
    },
    {
     "data": {
      "text/html": [
       "<dl class=dl-horizontal>\n",
       "\t<dt>5%</dt>\n",
       "\t\t<dd>8.95</dd>\n",
       "\t<dt>25%</dt>\n",
       "\t\t<dd>57.75</dd>\n",
       "\t<dt>50%</dt>\n",
       "\t\t<dd>99.5</dd>\n",
       "\t<dt>75%</dt>\n",
       "\t\t<dd>155.75</dd>\n",
       "</dl>\n"
      ],
      "text/latex": [
       "\\begin{description*}\n",
       "\\item[5\\textbackslash{}\\%] 8.95\n",
       "\\item[25\\textbackslash{}\\%] 57.75\n",
       "\\item[50\\textbackslash{}\\%] 99.5\n",
       "\\item[75\\textbackslash{}\\%] 155.75\n",
       "\\end{description*}\n"
      ],
      "text/markdown": [
       "5%\n",
       ":   8.9525%\n",
       ":   57.7550%\n",
       ":   99.575%\n",
       ":   155.75\n",
       "\n"
      ],
      "text/plain": [
       "    5%    25%    50%    75% \n",
       "  8.95  57.75  99.50 155.75 "
      ]
     },
     "metadata": {},
     "output_type": "display_data"
    },
    {
     "data": {
      "image/png": "[encoded data removed]",
      "text/plain": [
       "Plot with title \"Rank x Especialização\""
      ]
     },
     "metadata": {},
     "output_type": "display_data"
    }
   ],
   "source": [
    "boxplot(df_original[df_original$specialisation == \"Mkt&HR\",]$sl_no, \n",
    "        df_original[df_original$specialisation == \"Mkt&Fin\",]$sl_no,\n",
    "        main = \"Rank x Especialização\",\n",
    "        names = c(\"Mkt&HR\", \"Mkt&Fin\")\n",
    "       )\n",
    "print(\"Mkt&HR\")\n",
    "quantile(df_original[df_original$specialisation == \"Mkt&HR\",]$sl_no, p=c(0.05,0.25,0.5,0.75))\n",
    "print(\"Mkt&Fin\")\n",
    "quantile(df_original[df_original$specialisation == \"Mkt&Fin\",]$sl_no, p=c(0.05,0.25,0.5,0.75))"
   ]
  },
  {
   "cell_type": "code",
   "execution_count": 6,
   "id": "professional-taxation",
   "metadata": {},
   "outputs": [
    {
     "data": {
      "text/html": [
       "<table>\n",
       "<thead><tr><th scope=col>sl_no</th><th scope=col>gender</th><th scope=col>ssc_p</th><th scope=col>ssc_b</th><th scope=col>hsc_p</th><th scope=col>hsc_b</th><th scope=col>hsc_s</th><th scope=col>degree_p</th><th scope=col>degree_t</th><th scope=col>workex</th><th scope=col>etest_p</th><th scope=col>specialisation</th><th scope=col>mba_p</th><th scope=col>status</th></tr></thead>\n",
       "<tbody>\n",
       "\t<tr><td>1    </td><td>2    </td><td>67.00</td><td>2    </td><td>91.00</td><td>2    </td><td>2    </td><td>58.00</td><td>3    </td><td>1    </td><td>55.0 </td><td>2    </td><td>58.80</td><td>2    </td></tr>\n",
       "\t<tr><td>2    </td><td>2    </td><td>79.33</td><td>1    </td><td>78.33</td><td>2    </td><td>3    </td><td>77.48</td><td>3    </td><td>2    </td><td>86.5 </td><td>1    </td><td>66.28</td><td>2    </td></tr>\n",
       "\t<tr><td>3    </td><td>2    </td><td>65.00</td><td>1    </td><td>68.00</td><td>1    </td><td>1    </td><td>64.00</td><td>1    </td><td>1    </td><td>75.0 </td><td>1    </td><td>57.80</td><td>2    </td></tr>\n",
       "\t<tr><td>4    </td><td>2    </td><td>56.00</td><td>1    </td><td>52.00</td><td>1    </td><td>3    </td><td>52.00</td><td>3    </td><td>1    </td><td>66.0 </td><td>2    </td><td>59.43</td><td>1    </td></tr>\n",
       "\t<tr><td>5    </td><td>2    </td><td>85.80</td><td>1    </td><td>73.60</td><td>1    </td><td>2    </td><td>73.30</td><td>1    </td><td>1    </td><td>96.8 </td><td>1    </td><td>55.50</td><td>2    </td></tr>\n",
       "\t<tr><td>6    </td><td>2    </td><td>55.00</td><td>2    </td><td>49.80</td><td>2    </td><td>3    </td><td>67.25</td><td>3    </td><td>2    </td><td>55.0 </td><td>1    </td><td>51.58</td><td>1    </td></tr>\n",
       "</tbody>\n",
       "</table>\n"
      ],
      "text/latex": [
       "\\begin{tabular}{r|llllllllllllll}\n",
       " sl\\_no & gender & ssc\\_p & ssc\\_b & hsc\\_p & hsc\\_b & hsc\\_s & degree\\_p & degree\\_t & workex & etest\\_p & specialisation & mba\\_p & status\\\\\n",
       "\\hline\n",
       "\t 1     & 2     & 67.00 & 2     & 91.00 & 2     & 2     & 58.00 & 3     & 1     & 55.0  & 2     & 58.80 & 2    \\\\\n",
       "\t 2     & 2     & 79.33 & 1     & 78.33 & 2     & 3     & 77.48 & 3     & 2     & 86.5  & 1     & 66.28 & 2    \\\\\n",
       "\t 3     & 2     & 65.00 & 1     & 68.00 & 1     & 1     & 64.00 & 1     & 1     & 75.0  & 1     & 57.80 & 2    \\\\\n",
       "\t 4     & 2     & 56.00 & 1     & 52.00 & 1     & 3     & 52.00 & 3     & 1     & 66.0  & 2     & 59.43 & 1    \\\\\n",
       "\t 5     & 2     & 85.80 & 1     & 73.60 & 1     & 2     & 73.30 & 1     & 1     & 96.8  & 1     & 55.50 & 2    \\\\\n",
       "\t 6     & 2     & 55.00 & 2     & 49.80 & 2     & 3     & 67.25 & 3     & 2     & 55.0  & 1     & 51.58 & 1    \\\\\n",
       "\\end{tabular}\n"
      ],
      "text/markdown": [
       "\n",
       "| sl_no | gender | ssc_p | ssc_b | hsc_p | hsc_b | hsc_s | degree_p | degree_t | workex | etest_p | specialisation | mba_p | status |\n",
       "|---|---|---|---|---|---|---|---|---|---|---|---|---|---|\n",
       "| 1     | 2     | 67.00 | 2     | 91.00 | 2     | 2     | 58.00 | 3     | 1     | 55.0  | 2     | 58.80 | 2     |\n",
       "| 2     | 2     | 79.33 | 1     | 78.33 | 2     | 3     | 77.48 | 3     | 2     | 86.5  | 1     | 66.28 | 2     |\n",
       "| 3     | 2     | 65.00 | 1     | 68.00 | 1     | 1     | 64.00 | 1     | 1     | 75.0  | 1     | 57.80 | 2     |\n",
       "| 4     | 2     | 56.00 | 1     | 52.00 | 1     | 3     | 52.00 | 3     | 1     | 66.0  | 2     | 59.43 | 1     |\n",
       "| 5     | 2     | 85.80 | 1     | 73.60 | 1     | 2     | 73.30 | 1     | 1     | 96.8  | 1     | 55.50 | 2     |\n",
       "| 6     | 2     | 55.00 | 2     | 49.80 | 2     | 3     | 67.25 | 3     | 2     | 55.0  | 1     | 51.58 | 1     |\n",
       "\n"
      ],
      "text/plain": [
       "  sl_no gender ssc_p ssc_b hsc_p hsc_b hsc_s degree_p degree_t workex etest_p\n",
       "1 1     2      67.00 2     91.00 2     2     58.00    3        1      55.0   \n",
       "2 2     2      79.33 1     78.33 2     3     77.48    3        2      86.5   \n",
       "3 3     2      65.00 1     68.00 1     1     64.00    1        1      75.0   \n",
       "4 4     2      56.00 1     52.00 1     3     52.00    3        1      66.0   \n",
       "5 5     2      85.80 1     73.60 1     2     73.30    1        1      96.8   \n",
       "6 6     2      55.00 2     49.80 2     3     67.25    3        2      55.0   \n",
       "  specialisation mba_p status\n",
       "1 2              58.80 2     \n",
       "2 1              66.28 2     \n",
       "3 1              57.80 2     \n",
       "4 2              59.43 1     \n",
       "5 1              55.50 2     \n",
       "6 1              51.58 1     "
      ]
     },
     "metadata": {},
     "output_type": "display_data"
    }
   ],
   "source": [
    "gender <- c(df_no_salary$gender)\n",
    "factores_gender <- factor(gender)\n",
    "df_no_salary$gender <- factores_gender\n",
    "\n",
    "ssc_b <- c(df_no_salary$ssc_b)\n",
    "factores_ssc_b <- factor(ssc_b)\n",
    "df_no_salary$ssc_b <- factores_ssc_b\n",
    "\n",
    "hsc_b <- c(df_no_salary$hsc_b)\n",
    "factores_hsc_b <- factor(hsc_b)\n",
    "df_no_salary$hsc_b <- factores_hsc_b\n",
    "\n",
    "hsc_s <- c(df_no_salary$hsc_s)\n",
    "factores_hsc_s <- factor(hsc_s)\n",
    "df_no_salary$hsc_s <- factores_hsc_s\n",
    "\n",
    "degree_t <- c(df_no_salary$degree_t)\n",
    "factores_degree_t <- factor(degree_t)\n",
    "df_no_salary$degree_t <- factores_degree_t\n",
    "\n",
    "workex <- c(df_no_salary$workex)\n",
    "factores_workex <- factor(workex)\n",
    "df_no_salary$workex <- factores_workex\n",
    "\n",
    "specialisation <- c(df_no_salary$specialisation)\n",
    "factores_specialisation <- factor(specialisation)\n",
    "df_no_salary$specialisation <- factores_specialisation\n",
    "\n",
    "status <- c(df_no_salary$status)\n",
    "factores_status <- factor(status)\n",
    "df_no_salary$status <- factores_status\n",
    "\n",
    "\n",
    "head(df_no_salary)"
   ]
  },
  {
   "cell_type": "markdown",
   "id": "empirical-error",
   "metadata": {},
   "source": [
    "links das referências:\n",
    "\n",
    "#https://stackoverflow.com/questions/38620424/label-encoder-functionality-in-r\n",
    "\n",
    "#https://youtu.be/ViIBKzekdz0\n",
    "\n",
    "#https://scikit-learn.org/stable/modules/generated/sklearn.preprocessing.LabelEncoder.html"
   ]
  },
  {
   "cell_type": "code",
   "execution_count": null,
   "id": "nasty-kinase",
   "metadata": {},
   "outputs": [],
   "source": []
  }
 ],
 "metadata": {
  "kernelspec": {
   "display_name": "R",
   "language": "R",
   "name": "ir"
  },
  "language_info": {
   "codemirror_mode": "r",
   "file_extension": ".r",
   "mimetype": "text/x-r-source",
   "name": "R",
   "pygments_lexer": "r",
   "version": "3.6.1"
  }
 },
 "nbformat": 4,
 "nbformat_minor": 5
}
