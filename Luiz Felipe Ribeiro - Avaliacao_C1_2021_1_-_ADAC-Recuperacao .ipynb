{
 "cells": [
  {
   "cell_type": "markdown",
   "id": "standing-nothing",
   "metadata": {},
   "source": [
    "<h4>Descrição das Colunas</h4>\n",
    "<ul>\n",
    "    <li>age: idade do beneficiário principal</li>\n",
    "    <li>sex: sexo do contratante do seguro, feminino, masculino</li>\n",
    "    <li>bmi: índice de massa corporal, fornecendo uma compreensão do corpo, pesos que são relativamente altos ou baixos em relação à altura, índice objetivo de peso corporal (kg/m^2) usando a relação entre altura e peso, idealmente 18,5 a 24,9</li>\n",
    "    <li>children: Número de filhos cobertos pelo seguro saúde / Número de dependentes</li>\n",
    "    <li>smoker: fumar</li>\n",
    "    <li>region: área residencial do beneficiário nos EUA, nordeste, sudeste, sudoeste, noroeste.</li>\n",
    "    <li>charges: despesas médicas individuais cobradas pelo seguro saúde</li>\n",
    "</ul>"
   ]
  },
  {
   "cell_type": "markdown",
   "id": "mechanical-canal",
   "metadata": {},
   "source": [
    "<h4>\n",
    "    <ol>        \n",
    "        <li>(2,0 pontos) Analise as despesas médicas por gênero: \n",
    "            <ul>\n",
    "                <li>Calcule a média, o desvio-padrão, coeficiente de variação, mínimos e máximos dos limites de créditos por gênero.</li>\n",
    "                <li>Plote um bloxspot das despesas médicas por gênero.</li>        \n",
    "                <li>Comente os resultados obtidos indicando qual gênero é mais homogêneo, qual gênero possui as maiores despesas, qual gênero possui as despesas mais discrepantes(outliers), qual gênero possui maior variação de despesas médicas.</li>\n",
    "            </ul>\n",
    "        </li>        \n",
    "        <li>(1,5 pontos) Analise os números de dependentes por gênero:\n",
    "            <ul>\n",
    "                <li>Calcule a média, o desvio padrão e o coeficiente de variação.</li>\n",
    "                <li>Plote um gráfico de barras comparando os gêneros pelo número de dependentes.</li>\n",
    "                <li>Comente os resultados obtidos. Seja criativo.</li>\n",
    "            </ul>\n",
    "        </li>\n",
    "        <li>(2,0 pontos) Analise as depesas médicas por ser fumante ou não\n",
    "            <ul>\n",
    "                <li>Plote um histograma para cada tipo, quebre em no mínimo 5 e no máximo 10 partes as despesas médicas por tipo</li>\n",
    "                <li>Comente os resultados obtidos. Seja criativo.</li>\n",
    "            </ul>\n",
    "        </li>\n",
    "    </ol>\n",
    "</h4>"
   ]
  },
  {
   "cell_type": "markdown",
   "id": "graduate-animation",
   "metadata": {},
   "source": [
    "<h4>Para as atividades a seguir, você deverá selecionar um dos seguintes datasets no diretório vehicles:\n",
    "    <ul>\n",
    "        <li>audi</li>\n",
    "        <li>bmw</li>\n",
    "        <li>ford</li>\n",
    "        <li>hyundi</li>\n",
    "        <li>toyota</li>\n",
    "        <li>vw</li>\n",
    "    </ul>\n",
    "</h4>"
   ]
  },
  {
   "cell_type": "code",
   "execution_count": null,
   "id": "eligible-encyclopedia",
   "metadata": {
    "scrolled": true
   },
   "outputs": [],
   "source": [
    "library(corrplot)\n",
    "DATASET = 'INSIRA AQUI O NOME DO DATASET SELECIONADO COM A EXTENSÃO CSV'\n",
    "vehicles <- read.csv(file.path(CAMINHO, DIRETORIO, DATASET), header=TRUE, sep=\",\")\n",
    "lista_colunas = c('year',\n",
    "                  'mileage',\n",
    "                  'tax',\n",
    "                  'mpg',\n",
    "                  'engineSize',\n",
    "                  'price'\n",
    "                 )"
   ]
  },
  {
   "cell_type": "markdown",
   "id": "clear-queen",
   "metadata": {},
   "source": [
    "<h4>Descrição das Colunas que Deverão Ser Utilizadas</h4>\n",
    "<ul>\n",
    "    <li>year: ano de fabricação</li>\n",
    "    <li>mileage: quilometragem</li>\n",
    "    <li>tax: impostos</li>\n",
    "    <li>mpg: milhas por galão</li>\n",
    "    <li>engineSize: tipo do motor</li>\n",
    "    <li>price: preço</li>\n",
    "</ul>"
   ]
  },
  {
   "cell_type": "markdown",
   "id": "shared-arrival",
   "metadata": {},
   "source": [
    "<h4>\n",
    "    <p>\n",
    "        4. (1,5 pontos) Crie um gráfico de correlação do tipo elipse.\n",
    "        <ul>\n",
    "            <li>Comente as relações das variáveis.</li>\n",
    "        </ul>\n",
    "    </p>\n",
    "    </br>\n",
    "    <p>5. (1,0 pontos) Selecione as duas variáveis com maior correlação e plote um gráfico de dispersão.\n",
    "    </p>\n",
    "</h4>"
   ]
  },
  {
   "cell_type": "code",
   "execution_count": 10,
   "id": "naked-argentina",
   "metadata": {},
   "outputs": [],
   "source": [
    "PSDS_PATH <- 'D://LUIZ FELIPE//Avaliacao_C1_2021_1_-_ADAC-Recuperacao//DataSets'\n",
    "insurance <- read.csv(file.path(PSDS_PATH, 'insurance.csv'), header=TRUE, sep=\",\")"
   ]
  },
  {
   "cell_type": "code",
   "execution_count": 12,
   "id": "stupid-madison",
   "metadata": {},
   "outputs": [
    {
     "data": {
      "text/html": [
       "<table>\n",
       "<thead><tr><th scope=col>age</th><th scope=col>sex</th><th scope=col>bmi</th><th scope=col>children</th><th scope=col>smoker</th><th scope=col>region</th><th scope=col>charges</th></tr></thead>\n",
       "<tbody>\n",
       "\t<tr><td>19       </td><td>female   </td><td>27.900   </td><td>0        </td><td>yes      </td><td>southwest</td><td>16884.924</td></tr>\n",
       "\t<tr><td>18       </td><td>male     </td><td>33.770   </td><td>1        </td><td>no       </td><td>southeast</td><td> 1725.552</td></tr>\n",
       "\t<tr><td>28       </td><td>male     </td><td>33.000   </td><td>3        </td><td>no       </td><td>southeast</td><td> 4449.462</td></tr>\n",
       "\t<tr><td>33       </td><td>male     </td><td>22.705   </td><td>0        </td><td>no       </td><td>northwest</td><td>21984.471</td></tr>\n",
       "\t<tr><td>32       </td><td>male     </td><td>28.880   </td><td>0        </td><td>no       </td><td>northwest</td><td> 3866.855</td></tr>\n",
       "\t<tr><td>31       </td><td>female   </td><td>25.740   </td><td>0        </td><td>no       </td><td>southeast</td><td> 3756.622</td></tr>\n",
       "</tbody>\n",
       "</table>\n"
      ],
      "text/latex": [
       "\\begin{tabular}{r|lllllll}\n",
       " age & sex & bmi & children & smoker & region & charges\\\\\n",
       "\\hline\n",
       "\t 19        & female    & 27.900    & 0         & yes       & southwest & 16884.924\\\\\n",
       "\t 18        & male      & 33.770    & 1         & no        & southeast &  1725.552\\\\\n",
       "\t 28        & male      & 33.000    & 3         & no        & southeast &  4449.462\\\\\n",
       "\t 33        & male      & 22.705    & 0         & no        & northwest & 21984.471\\\\\n",
       "\t 32        & male      & 28.880    & 0         & no        & northwest &  3866.855\\\\\n",
       "\t 31        & female    & 25.740    & 0         & no        & southeast &  3756.622\\\\\n",
       "\\end{tabular}\n"
      ],
      "text/markdown": [
       "\n",
       "| age | sex | bmi | children | smoker | region | charges |\n",
       "|---|---|---|---|---|---|---|\n",
       "| 19        | female    | 27.900    | 0         | yes       | southwest | 16884.924 |\n",
       "| 18        | male      | 33.770    | 1         | no        | southeast |  1725.552 |\n",
       "| 28        | male      | 33.000    | 3         | no        | southeast |  4449.462 |\n",
       "| 33        | male      | 22.705    | 0         | no        | northwest | 21984.471 |\n",
       "| 32        | male      | 28.880    | 0         | no        | northwest |  3866.855 |\n",
       "| 31        | female    | 25.740    | 0         | no        | southeast |  3756.622 |\n",
       "\n"
      ],
      "text/plain": [
       "  age sex    bmi    children smoker region    charges  \n",
       "1 19  female 27.900 0        yes    southwest 16884.924\n",
       "2 18  male   33.770 1        no     southeast  1725.552\n",
       "3 28  male   33.000 3        no     southeast  4449.462\n",
       "4 33  male   22.705 0        no     northwest 21984.471\n",
       "5 32  male   28.880 0        no     northwest  3866.855\n",
       "6 31  female 25.740 0        no     southeast  3756.622"
      ]
     },
     "metadata": {},
     "output_type": "display_data"
    }
   ],
   "source": [
    "head(insurance)"
   ]
  },
  {
   "cell_type": "code",
   "execution_count": 19,
   "id": "competent-leisure",
   "metadata": {},
   "outputs": [
    {
     "name": "stdout",
     "output_type": "stream",
     "text": [
      "[1] \"MASCULINO:\"\n",
      "[1] \"Média:  13956.7511777219\"\n",
      "[1] \"Desvio-Padrão:  12971.0259150231\"\n",
      "[1] \"Coeficiente de Variação:  92.9372871225771\"\n",
      "[1] \"Maior Despesa:  62592.87309\"\n",
      "[1] \"Menor Despesa:  1121.8739\"\n"
     ]
    }
   ],
   "source": [
    "media_M = mean(insurence[insurence$sex == 'male', ]$charges)\n",
    "sd_M = sd(insurence[insurence$sex == 'male', ]$charges)\n",
    "max_M = max(insurence[insurence$sex == 'male', ]$charges)\n",
    "min_M = min(insurence[insurence$sex == 'male', ]$charges)\n",
    "cv_M = (sd_M/media_M)*100\n",
    "\n",
    "print(\"MASCULINO:\")\n",
    "print(paste(\"Média: \", media_M))\n",
    "print(paste(\"Desvio-Padrão: \", sd_M))\n",
    "print(paste(\"Coeficiente de Variação: \", cv_M))\n",
    "print(paste(\"Maior Despesa: \", max_M))\n",
    "print(paste(\"Menor Despesa: \", min_M))\n"
   ]
  },
  {
   "cell_type": "code",
   "execution_count": 21,
   "id": "severe-services",
   "metadata": {},
   "outputs": [
    {
     "name": "stdout",
     "output_type": "stream",
     "text": [
      "[1] \"FEMININO:\"\n",
      "[1] \"Média:  12569.5788438353\"\n",
      "[1] \"Desvio-Padrão:  11128.7038009154\"\n",
      "[1] \"Coeficiente de Variação:  88.5368073121513\"\n",
      "[1] \"Maior Despesa:  63770.42801\"\n",
      "[1] \"Menor Despesa:  1607.5101\"\n"
     ]
    }
   ],
   "source": [
    "media_F = mean(insurance[insurance$sex == 'female', ]$charges)\n",
    "sd_F = sd(insurance[insurance$sex == 'female', ]$charges)\n",
    "max_F = max(insurance[insurance$sex == 'female', ]$charges)\n",
    "min_F = min(insurance[insurance$sex == 'female', ]$charges)\n",
    "cv_F = (sd_F/media_F)*100\n",
    "\n",
    "print(\"FEMININO:\")\n",
    "print(paste(\"Média: \", media_F))\n",
    "print(paste(\"Desvio-Padrão: \", sd_F))\n",
    "print(paste(\"Coeficiente de Variação: \", cv_F))\n",
    "print(paste(\"Maior Despesa: \", max_F))\n",
    "print(paste(\"Menor Despesa: \", min_F))\n"
   ]
  },
  {
   "cell_type": "code",
   "execution_count": 18,
   "id": "stretch-porter",
   "metadata": {},
   "outputs": [
    {
     "data": {
      "image/png": "[encoded data removed]",
      "text/plain": [
       "Plot with title \"Despesas Médicas x Gênero\""
      ]
     },
     "metadata": {},
     "output_type": "display_data"
    }
   ],
   "source": [
    "boxplot(insurance[insurance$sex == 'male', ]$charges, \n",
    "        insurance[insurance$sex == 'female', ]$charges,\n",
    "        main = \"Despesas Médicas x Gênero\",\n",
    "        names = c(\"Masculino\", \"Feminino\")\n",
    "       )"
   ]
  },
  {
   "cell_type": "code",
   "execution_count": 24,
   "id": "classical-difficulty",
   "metadata": {},
   "outputs": [
    {
     "name": "stdout",
     "output_type": "stream",
     "text": [
      "[1] \"Consultando o coeficiente de variação podemos ver que o gênero feminino é mais homogêneo; O genênero com maior despesa é o feminino; De acordo com o boxplot o gênero com as despesas mais discrepantes é o feminino; O masculino possui uma maior variação de despesas.\"\n"
     ]
    }
   ],
   "source": [
    "print(\"Consultando o coeficiente de variação podemos ver que o gênero feminino é mais homogêneo; O genênero com maior despesa é o feminino; De acordo com o boxplot o gênero com as despesas mais discrepantes é o feminino; O masculino possui uma maior variação de despesas.\")"
   ]
  },
  {
   "cell_type": "code",
   "execution_count": 30,
   "id": "aboriginal-wonder",
   "metadata": {},
   "outputs": [
    {
     "name": "stdout",
     "output_type": "stream",
     "text": [
      "[1] \"Dependentes do Gênero Masculino:\"\n",
      "[1] \"Média:  1.11538461538462\"\n",
      "[1] \"Desvio-Padrão:  1.21898561350244\"\n",
      "[1] \"Coeficiente de Variação:  109.288365348495\"\n"
     ]
    }
   ],
   "source": [
    "media_M = mean(insurence[insurence$sex == 'male', ]$children)\n",
    "sd_M = sd(insurence[insurence$sex == 'male', ]$children)\n",
    "cv_M = (sd_M/media_M)*100\n",
    "\n",
    "print(\"Dependentes do Gênero Masculino:\")\n",
    "print(paste(\"Média: \", media_M))\n",
    "print(paste(\"Desvio-Padrão: \", sd_M))\n",
    "print(paste(\"Coeficiente de Variação: \", cv_M))"
   ]
  },
  {
   "cell_type": "code",
   "execution_count": 27,
   "id": "simplified-project",
   "metadata": {},
   "outputs": [
    {
     "name": "stdout",
     "output_type": "stream",
     "text": [
      "[1] \"Dependentes do Gênero Feminino:\"\n",
      "[1] \"Média:  1.07401812688822\"\n",
      "[1] \"Desvio-Padrão:  1.1921154944749\"\n",
      "[1] \"Coeficiente de Variação:  110.995844914541\"\n"
     ]
    }
   ],
   "source": [
    "media_F = mean(insurence[insurence$sex == 'female', ]$children)\n",
    "sd_F = sd(insurence[insurence$sex == 'female', ]$children)\n",
    "cv_F = (sd_F/media_F)*100\n",
    "\n",
    "print(\"Dependentes do Gênero Feminino:\")\n",
    "print(paste(\"Média: \", media_F))\n",
    "print(paste(\"Desvio-Padrão: \", sd_F))\n",
    "print(paste(\"Coeficiente de Variação: \", cv_F))"
   ]
  },
  {
   "cell_type": "code",
   "execution_count": 28,
   "id": "collect-andrew",
   "metadata": {},
   "outputs": [
    {
     "data": {
      "image/png": "[encoded data removed]",
      "text/plain": [
       "plot without title"
      ]
     },
     "metadata": {},
     "output_type": "display_data"
    }
   ],
   "source": [
    "barplot(height=c(sum(insurance[insurance$sex == 'male', ]$children), \n",
    "                 sum(insurance[insurance$sex == 'female', ]$children)),\n",
    "        names=c('Masculino', 'Feminino'))"
   ]
  },
  {
   "cell_type": "code",
   "execution_count": 31,
   "id": "neutral-cincinnati",
   "metadata": {},
   "outputs": [
    {
     "name": "stdout",
     "output_type": "stream",
     "text": [
      "[1] \"Em relação ao número de dependentes por gênero, podemos analisar que o gênero mais homogêneo é o masculino; E através do gráfico de barras podemos ver que o número de dependentes masculino é superior ao feminino.\"\n"
     ]
    }
   ],
   "source": [
    "print(\"Em relação ao número de dependentes por gênero, podemos analisar que o gênero mais homogêneo é o masculino; E através do gráfico de barras podemos ver que o número de dependentes masculino é superior ao feminino.\")"
   ]
  },
  {
   "cell_type": "code",
   "execution_count": 40,
   "id": "opposite-theme",
   "metadata": {},
   "outputs": [
    {
     "data": {
      "image/png": "[encoded data removed]",
      "text/plain": [
       "Plot with title \"Histograma de não Fumantes\""
      ]
     },
     "metadata": {},
     "output_type": "display_data"
    }
   ],
   "source": [
    "noSmoker = insurence[insurence$smoker == 'no', ]$charges\n",
    "\n",
    "quebras = seq(from=min(noSmoker),\n",
    "              to=max(noSmoker), \n",
    "              length=10)\n",
    "\n",
    "hist(noSmoker, breaks=quebras, ylab = 'Não Fuma',xlab = 'Despesas', main = 'Histograma de não Fumantes')"
   ]
  },
  {
   "cell_type": "code",
   "execution_count": 41,
   "id": "composite-transport",
   "metadata": {},
   "outputs": [
    {
     "data": {
      "image/png": "[encoded data removed]",
      "text/plain": [
       "Plot with title \"Histograma de Fumantes\""
      ]
     },
     "metadata": {},
     "output_type": "display_data"
    }
   ],
   "source": [
    "Smoker = insurence[insurence$smoker == 'yes', ]$charges\n",
    "\n",
    "quebras = seq(from=min(Smoker),\n",
    "              to=max(Smoker), \n",
    "              length=10)\n",
    "\n",
    "hist(Smoker, breaks=quebras, ylab = 'Fuma',xlab = 'Despesas', main = 'Histograma de Fumantes')"
   ]
  },
  {
   "cell_type": "code",
   "execution_count": 42,
   "id": "received-heart",
   "metadata": {},
   "outputs": [
    {
     "name": "stdout",
     "output_type": "stream",
     "text": [
      "[1] \"De acordo com o histograma de não fumantes, podemos ver que quem possui as menores despesas são os que menos fumam, talvez elas possuem as menores despesas por não serem fumantes, será?. Analisando o histograma de fumantes vemos uma maior igualdade no número de fumantes, e também vemos que os maiores grupos de fumantes possuem uma despesa mais elevada.\"\n"
     ]
    }
   ],
   "source": [
    "print(\"De acordo com o histograma de não fumantes, podemos ver que quem possui as menores despesas são os que menos fumam, talvez elas possuem as menores despesas por não serem fumantes, será?. Analisando o histograma de fumantes vemos uma maior igualdade no número de fumantes, e também vemos que os maiores grupos de fumantes possuem uma despesa mais elevada.\") "
   ]
  },
  {
   "cell_type": "code",
   "execution_count": 47,
   "id": "published-machine",
   "metadata": {},
   "outputs": [],
   "source": [
    "library(corrplot)"
   ]
  },
  {
   "cell_type": "code",
   "execution_count": 53,
   "id": "nominated-disco",
   "metadata": {},
   "outputs": [],
   "source": [
    "PSDS_PATH <- 'D://LUIZ FELIPE//Avaliacao_C1_2021_1_-_ADAC-Recuperacao//DataSets//vehicles'\n",
    "vehicles <- read.csv(file.path(PSDS_PATH, 'ford.csv'), header=TRUE, sep=\",\")\n",
    "lista_colunas = c('year',\n",
    "                  'mileage',\n",
    "                  'tax',\n",
    "                  'mpg',\n",
    "                  'engineSize',\n",
    "                  'price'\n",
    "                 )"
   ]
  },
  {
   "cell_type": "code",
   "execution_count": 54,
   "id": "cleared-industry",
   "metadata": {},
   "outputs": [
    {
     "data": {
      "image/png": "[encoded data removed]",
      "text/plain": [
       "Plot with title \"\""
      ]
     },
     "metadata": {},
     "output_type": "display_data"
    }
   ],
   "source": [
    "corrplot(cor(vehicles[lista_colunas]), method='ellipse')"
   ]
  },
  {
   "cell_type": "code",
   "execution_count": 52,
   "id": "decreased-virus",
   "metadata": {},
   "outputs": [
    {
     "name": "stdout",
     "output_type": "stream",
     "text": [
      "[1] \"De acordo com esse gráfico de correlação, analisamos que a coluna 'year' possui uma correlação muito baixa com a coluna 'mileage', enquanto, a mesma 'year' também possui a melhor correlação do gráfico, que é com 'price'. Também podemos ver uma variância grande de correlação entre os dados de cada coluna.\"\n"
     ]
    }
   ],
   "source": [
    "print(\"De acordo com esse gráfico de correlação, analisamos que a coluna 'year' possui uma correlação muito baixa com a coluna 'mileage', enquanto, a mesma 'year' também possui a melhor correlação do gráfico, que é com 'price'. Também podemos ver uma variância grande de correlação entre os dados de cada coluna.\")"
   ]
  },
  {
   "cell_type": "code",
   "execution_count": 63,
   "id": "fiscal-spouse",
   "metadata": {},
   "outputs": [
    {
     "data": {
      "image/png": "[encoded data removed]",
      "text/plain": [
       "plot without title"
      ]
     },
     "metadata": {},
     "output_type": "display_data"
    }
   ],
   "source": [
    "plot(vehicles$year, \n",
    "     vehicles$price, \n",
    "     type = 'p', \n",
    "     xlab='year', \n",
    "     ylab='price')\n",
    "abline(h=15000, v=2015, col='grey')"
   ]
  },
  {
   "cell_type": "code",
   "execution_count": null,
   "id": "settled-piano",
   "metadata": {},
   "outputs": [],
   "source": []
  }
 ],
 "metadata": {
  "kernelspec": {
   "display_name": "R",
   "language": "R",
   "name": "ir"
  },
  "language_info": {
   "codemirror_mode": "r",
   "file_extension": ".r",
   "mimetype": "text/x-r-source",
   "name": "R",
   "pygments_lexer": "r",
   "version": "3.6.1"
  }
 },
 "nbformat": 4,
 "nbformat_minor": 5
}
