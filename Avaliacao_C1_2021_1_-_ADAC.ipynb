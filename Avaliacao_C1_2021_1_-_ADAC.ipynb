{
 "cells": [
  {
   "cell_type": "markdown",
   "id": "critical-buddy",
   "metadata": {},
   "source": [
    "##### Orientações:\n",
    "##### 1- A avaliação estará disponível a partir de 20:15h até às 22:15h, sem exceção, não deixem para enviar no último minuto;\n",
    "##### 2- Não serão aceitas questões idênticas, sejam criativos;\n",
    "##### 3- A consulta ao material está permitida;\n",
    "##### 4- Para cada questão, mantenha todo código desenvolvido disponível no documento que irá enviar;\n",
    "##### 5- Durante a avaliação não será necessário logar no Teams pelo chat de áudio, estarei disponível no chat de texto apenas;\n",
    "##### 6- Ao concluir a avaliação, após o envio no AVA, o aluno estará liberado;"
   ]
  },
  {
   "cell_type": "markdown",
   "id": "pending-guard",
   "metadata": {},
   "source": [
    "#### "
   ]
  },
  {
   "cell_type": "code",
   "execution_count": null,
   "id": "brutal-relief",
   "metadata": {},
   "outputs": [],
   "source": [
    "CAMINHO <- 'Substitua pelo caminho onde encontra-se o diretório que salvou os datasets'\n",
    "DIRETORIO <- 'Substitua pelo nome do diretório que salvou os datasets'"
   ]
  },
  {
   "cell_type": "code",
   "execution_count": null,
   "id": "located-crash",
   "metadata": {},
   "outputs": [],
   "source": [
    "clientesCreditCard <- read.csv(file.path(CAMINHO, DIRETORIO, 'Clientes_Cartao_Credito.csv'), header=TRUE, sep=\";\")"
   ]
  },
  {
   "cell_type": "markdown",
   "id": "standing-nothing",
   "metadata": {},
   "source": [
    "<h4>Descrição das Colunas do DataSet</h4>\n",
    "<ul>\n",
    "    <li>CLIENTNUM: indica o código do cliente</li>\n",
    "    <li>Attrition_Flag: indica se é um cliente atualmente (Existing Customer) ou se foi um cliente (Attrited Customer)</li>\n",
    "    <li>Customer_Age: indica a idade do cliente em anos</li>\n",
    "    <li>Gender: indica o gênero do cliente - M=Masculino, F=Feminino</li>\n",
    "    <li>Dependent_count: indica o número de dependentes</li>\n",
    "    <li>Education_Level: indica o nível educacional</li>\n",
    "    <li>Marital_Status: indica o estado civíl (Casado=Married, Solteiro=Single, Divorciado-Divorced, Desconhecido=Unknown)</li>\n",
    "    <li>Income_Category: indica a categoria de renda anual do cliente</li>\n",
    "    <li>Card_Category: indica o tipo de cartão(Blue, Silver, Gold, Platinum)</li>\n",
    "    <li>Months_on_book: indica quantos meses de relacionamento com o banco o cliente possui</li>\n",
    "    <li>Months_Inactive_12_mon: indica quantos meses o cliente ficou inativo nos últimos 12 meses</li>\n",
    "    <li>Contacts_Count_12_mon: indica o número de tentativas de contato que o banco teve com o cliente nos últimos 12 meses</li>\n",
    "    <li>Credit_Limit: indica o limite de crédito do cliente</li>\n",
    "</ul>"
   ]
  },
  {
   "cell_type": "markdown",
   "id": "mechanical-canal",
   "metadata": {},
   "source": [
    "<h4>\n",
    "    <ol>        \n",
    "        <li>(2,0 pontos) Analise os limites de crédito por gênero: \n",
    "            <ul>\n",
    "                <li>Calcule a média, o desvio-padrão, coeficiente de variação, mínimos e máximos dos limites de créditos por gênero.</li>\n",
    "                <li>Plote um bloxspot por gênero.</li>        \n",
    "                <li>Comente os resultados obtidos indicando qual gênero é mais homogêneo, qual gênero possui o maior limite, qual gênero possui os limites de créditos mais discrepantes(outliers), qual gênero possui maior variação de limite de créditos.</li>\n",
    "            </ul>\n",
    "        </li>        \n",
    "        <li>(1,5 pontos) Analise os números de dependentes por gênero:\n",
    "            <ul>\n",
    "                <li>Calcule a média e o desvio padrão.</li>\n",
    "                <li>Plote um gráfico de barras comparando os gêneros.</li>\n",
    "                <li>Comente os resultados obtidos. Seja criativo.</li>\n",
    "            </ul>\n",
    "        </li>\n",
    "        <li>(2,0 pontos) Analise os clientes por tipo de cartão\n",
    "            <ul>\n",
    "                <li>Plote um histograma para cada tipo de cartão, para isso, quebre em no mínimo 5 e no máximo 10 partes os limites de créditos por tipo</li>\n",
    "                <li>Comente os resultados obtidos. Seja criativo.</li>\n",
    "            </ul>\n",
    "        </li>\n",
    "    </ol>\n",
    "</h4>"
   ]
  },
  {
   "cell_type": "code",
   "execution_count": null,
   "id": "eligible-encyclopedia",
   "metadata": {
    "scrolled": true
   },
   "outputs": [],
   "source": [
    "library(corrplot)\n",
    "house_sales <- read.csv(file.path(CAMINHO, DIRETORIO, 'house_sales.csv'), header=TRUE, sep=\"\\t\")\n",
    "lista_colunas = c('SalePrice',\n",
    "                  'NbrLivingUnits',\n",
    "                  'SqFtLot',\n",
    "                  'SqFtTotLiving',\n",
    "                  'SqFtFinBasement',\n",
    "                  'Bathrooms',\n",
    "                  'Bedrooms',\n",
    "                  'BldgGrade',\n",
    "                  'YrBuilt',\n",
    "                  'YrRenovated',\n",
    "                  'TrafficNoise',\n",
    "                  'LandVal',\n",
    "                  'ImpsVal'\n",
    "                 )"
   ]
  },
  {
   "cell_type": "markdown",
   "id": "clear-queen",
   "metadata": {},
   "source": [
    "<h4>Descrição das Colunas que Deverão Ser Utilizadas</h4>\n",
    "<ul>\n",
    "    <li>SalePrice: indica o preço de venda do imóvel</li>\n",
    "    <li>NbrLivingUnits: indica o número de vizinhos próximos</li>\n",
    "    <li>SqFtLot: indica os metros quatrados do loteamento</li>\n",
    "    <li>SqFtTotLiving: indica os metros quadrados totais para morar</li>\n",
    "    <li>SqFtFinBasement: indica os metros quadrados já construídos</li>\n",
    "    <li>Bathrooms: indica o número de banheiros</li>\n",
    "    <li>Bedrooms: indica o número de quartos</li>\n",
    "    <li>BldgGrade: indica a qualidade do material utilizado na construção</li>\n",
    "    <li>YrBuilt: indica o ano da consutrção</li>\n",
    "    <li>YrRenovated: indica o ano da reforma</li>\n",
    "    <li>LandVal: indica o valor de parte da propriedade</li>\n",
    "    <li>ImpsVal: indica o valor ajustado do preço de cada parte multiplicado pelo metro quadrado</li>\n",
    "</ul>"
   ]
  },
  {
   "cell_type": "markdown",
   "id": "shared-arrival",
   "metadata": {},
   "source": [
    "<h4>\n",
    "    <p>\n",
    "        4. (1,5 pontos) Crie um gráfico de correlação do tipo elipse.\n",
    "        <ul>\n",
    "            <li>Comente as relações das variáveis.</li>\n",
    "        </ul>\n",
    "    </p>\n",
    "    </br>\n",
    "    <p>5. (1,0 pontos) Selecione as duas variáveis com maior correlação e plote um gráfico de dispersão.\n",
    "    </p>\n",
    "</h4>"
   ]
  }
 ],
 "metadata": {
  "kernelspec": {
   "display_name": "R",
   "language": "R",
   "name": "ir"
  },
  "language_info": {
   "codemirror_mode": "r",
   "file_extension": ".r",
   "mimetype": "text/x-r-source",
   "name": "R",
   "pygments_lexer": "r",
   "version": "3.6.1"
  }
 },
 "nbformat": 4,
 "nbformat_minor": 5
}
